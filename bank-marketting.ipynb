{
 "cells": [
  {
   "cell_type": "code",
   "execution_count": 4,
   "metadata": {
    "id": "yObplY4lbGy0",
    "trusted": true
   },
   "outputs": [
    {
     "name": "stdout",
     "output_type": "stream",
     "text": [
      "Requirement already satisfied: pip in /home/ghost/Documents/CODE/myenv/lib/python3.9/site-packages (25.0)\n",
      "Note: you may need to restart the kernel to use updated packages.\n",
      "Requirement already satisfied: xgboost in /home/ghost/Documents/CODE/myenv/lib/python3.9/site-packages (2.1.4)\n",
      "Requirement already satisfied: scikit-learn in /home/ghost/Documents/CODE/myenv/lib/python3.9/site-packages (1.6.1)\n",
      "Requirement already satisfied: kagglehub in /home/ghost/Documents/CODE/myenv/lib/python3.9/site-packages (0.3.7)\n",
      "Requirement already satisfied: jupyter in /home/ghost/Documents/CODE/myenv/lib/python3.9/site-packages (1.1.1)\n",
      "Requirement already satisfied: ipykernel in /home/ghost/Documents/CODE/myenv/lib/python3.9/site-packages (6.29.5)\n",
      "Requirement already satisfied: ipywidgets in /home/ghost/Documents/CODE/myenv/lib/python3.9/site-packages (8.1.5)\n",
      "Requirement already satisfied: lightgbm in /home/ghost/Documents/CODE/myenv/lib/python3.9/site-packages (4.5.0)\n",
      "Requirement already satisfied: seaborn in /home/ghost/Documents/CODE/myenv/lib/python3.9/site-packages (0.13.2)\n",
      "Requirement already satisfied: numpy in /home/ghost/Documents/CODE/myenv/lib/python3.9/site-packages (from xgboost) (2.0.2)\n",
      "Requirement already satisfied: nvidia-nccl-cu12 in /home/ghost/Documents/CODE/myenv/lib/python3.9/site-packages (from xgboost) (2.25.1)\n",
      "Requirement already satisfied: scipy in /home/ghost/Documents/CODE/myenv/lib/python3.9/site-packages (from xgboost) (1.13.1)\n",
      "Requirement already satisfied: joblib>=1.2.0 in /home/ghost/Documents/CODE/myenv/lib/python3.9/site-packages (from scikit-learn) (1.4.2)\n",
      "Requirement already satisfied: threadpoolctl>=3.1.0 in /home/ghost/Documents/CODE/myenv/lib/python3.9/site-packages (from scikit-learn) (3.5.0)\n",
      "Requirement already satisfied: model-signing in /home/ghost/Documents/CODE/myenv/lib/python3.9/site-packages (from kagglehub) (0.2.0)\n",
      "Requirement already satisfied: packaging in /home/ghost/Documents/CODE/myenv/lib/python3.9/site-packages (from kagglehub) (24.2)\n",
      "Requirement already satisfied: requests in /home/ghost/Documents/CODE/myenv/lib/python3.9/site-packages (from kagglehub) (2.32.3)\n",
      "Requirement already satisfied: tqdm in /home/ghost/Documents/CODE/myenv/lib/python3.9/site-packages (from kagglehub) (4.67.1)\n",
      "Requirement already satisfied: notebook in /home/ghost/Documents/CODE/myenv/lib/python3.9/site-packages (from jupyter) (7.3.2)\n",
      "Requirement already satisfied: jupyter-console in /home/ghost/Documents/CODE/myenv/lib/python3.9/site-packages (from jupyter) (6.6.3)\n",
      "Requirement already satisfied: nbconvert in /home/ghost/Documents/CODE/myenv/lib/python3.9/site-packages (from jupyter) (7.16.6)\n",
      "Requirement already satisfied: jupyterlab in /home/ghost/Documents/CODE/myenv/lib/python3.9/site-packages (from jupyter) (4.3.5)\n",
      "Requirement already satisfied: comm>=0.1.1 in /home/ghost/Documents/CODE/myenv/lib/python3.9/site-packages (from ipykernel) (0.2.2)\n",
      "Requirement already satisfied: debugpy>=1.6.5 in /home/ghost/Documents/CODE/myenv/lib/python3.9/site-packages (from ipykernel) (1.8.12)\n",
      "Requirement already satisfied: ipython>=7.23.1 in /home/ghost/Documents/CODE/myenv/lib/python3.9/site-packages (from ipykernel) (8.18.1)\n",
      "Requirement already satisfied: jupyter-client>=6.1.12 in /home/ghost/Documents/CODE/myenv/lib/python3.9/site-packages (from ipykernel) (8.6.3)\n",
      "Requirement already satisfied: jupyter-core!=5.0.*,>=4.12 in /home/ghost/Documents/CODE/myenv/lib/python3.9/site-packages (from ipykernel) (5.7.2)\n",
      "Requirement already satisfied: matplotlib-inline>=0.1 in /home/ghost/Documents/CODE/myenv/lib/python3.9/site-packages (from ipykernel) (0.1.7)\n",
      "Requirement already satisfied: nest-asyncio in /home/ghost/Documents/CODE/myenv/lib/python3.9/site-packages (from ipykernel) (1.6.0)\n",
      "Requirement already satisfied: psutil in /home/ghost/Documents/CODE/myenv/lib/python3.9/site-packages (from ipykernel) (6.1.1)\n",
      "Requirement already satisfied: pyzmq>=24 in /home/ghost/Documents/CODE/myenv/lib/python3.9/site-packages (from ipykernel) (26.2.1)\n",
      "Requirement already satisfied: tornado>=6.1 in /home/ghost/Documents/CODE/myenv/lib/python3.9/site-packages (from ipykernel) (6.4.2)\n",
      "Requirement already satisfied: traitlets>=5.4.0 in /home/ghost/Documents/CODE/myenv/lib/python3.9/site-packages (from ipykernel) (5.14.3)\n",
      "Requirement already satisfied: widgetsnbextension~=4.0.12 in /home/ghost/Documents/CODE/myenv/lib/python3.9/site-packages (from ipywidgets) (4.0.13)\n",
      "Requirement already satisfied: jupyterlab-widgets~=3.0.12 in /home/ghost/Documents/CODE/myenv/lib/python3.9/site-packages (from ipywidgets) (3.0.13)\n",
      "Requirement already satisfied: pandas>=1.2 in /home/ghost/Documents/CODE/myenv/lib/python3.9/site-packages (from seaborn) (2.2.3)\n",
      "Requirement already satisfied: matplotlib!=3.6.1,>=3.4 in /home/ghost/Documents/CODE/myenv/lib/python3.9/site-packages (from seaborn) (3.9.4)\n",
      "Requirement already satisfied: decorator in /home/ghost/Documents/CODE/myenv/lib/python3.9/site-packages (from ipython>=7.23.1->ipykernel) (5.1.1)\n",
      "Requirement already satisfied: jedi>=0.16 in /home/ghost/Documents/CODE/myenv/lib/python3.9/site-packages (from ipython>=7.23.1->ipykernel) (0.19.2)\n",
      "Requirement already satisfied: prompt-toolkit<3.1.0,>=3.0.41 in /home/ghost/Documents/CODE/myenv/lib/python3.9/site-packages (from ipython>=7.23.1->ipykernel) (3.0.50)\n",
      "Requirement already satisfied: pygments>=2.4.0 in /home/ghost/Documents/CODE/myenv/lib/python3.9/site-packages (from ipython>=7.23.1->ipykernel) (2.19.1)\n",
      "Requirement already satisfied: stack-data in /home/ghost/Documents/CODE/myenv/lib/python3.9/site-packages (from ipython>=7.23.1->ipykernel) (0.6.3)\n",
      "Requirement already satisfied: typing-extensions in /home/ghost/Documents/CODE/myenv/lib/python3.9/site-packages (from ipython>=7.23.1->ipykernel) (4.12.2)\n",
      "Requirement already satisfied: exceptiongroup in /home/ghost/Documents/CODE/myenv/lib/python3.9/site-packages (from ipython>=7.23.1->ipykernel) (1.2.2)\n",
      "Requirement already satisfied: pexpect>4.3 in /home/ghost/Documents/CODE/myenv/lib/python3.9/site-packages (from ipython>=7.23.1->ipykernel) (4.9.0)\n",
      "Requirement already satisfied: importlib-metadata>=4.8.3 in /home/ghost/Documents/CODE/myenv/lib/python3.9/site-packages (from jupyter-client>=6.1.12->ipykernel) (8.6.1)\n",
      "Requirement already satisfied: python-dateutil>=2.8.2 in /home/ghost/Documents/CODE/myenv/lib/python3.9/site-packages (from jupyter-client>=6.1.12->ipykernel) (2.9.0.post0)\n",
      "Requirement already satisfied: platformdirs>=2.5 in /home/ghost/Documents/CODE/myenv/lib/python3.9/site-packages (from jupyter-core!=5.0.*,>=4.12->ipykernel) (4.3.6)\n",
      "Requirement already satisfied: contourpy>=1.0.1 in /home/ghost/Documents/CODE/myenv/lib/python3.9/site-packages (from matplotlib!=3.6.1,>=3.4->seaborn) (1.3.0)\n",
      "Requirement already satisfied: cycler>=0.10 in /home/ghost/Documents/CODE/myenv/lib/python3.9/site-packages (from matplotlib!=3.6.1,>=3.4->seaborn) (0.12.1)\n",
      "Requirement already satisfied: fonttools>=4.22.0 in /home/ghost/Documents/CODE/myenv/lib/python3.9/site-packages (from matplotlib!=3.6.1,>=3.4->seaborn) (4.56.0)\n",
      "Requirement already satisfied: kiwisolver>=1.3.1 in /home/ghost/Documents/CODE/myenv/lib/python3.9/site-packages (from matplotlib!=3.6.1,>=3.4->seaborn) (1.4.7)\n",
      "Requirement already satisfied: pillow>=8 in /home/ghost/Documents/CODE/myenv/lib/python3.9/site-packages (from matplotlib!=3.6.1,>=3.4->seaborn) (11.1.0)\n",
      "Requirement already satisfied: pyparsing>=2.3.1 in /home/ghost/Documents/CODE/myenv/lib/python3.9/site-packages (from matplotlib!=3.6.1,>=3.4->seaborn) (3.2.1)\n",
      "Requirement already satisfied: importlib-resources>=3.2.0 in /home/ghost/Documents/CODE/myenv/lib/python3.9/site-packages (from matplotlib!=3.6.1,>=3.4->seaborn) (5.13.0)\n",
      "Requirement already satisfied: pytz>=2020.1 in /home/ghost/Documents/CODE/myenv/lib/python3.9/site-packages (from pandas>=1.2->seaborn) (2025.1)\n",
      "Requirement already satisfied: tzdata>=2022.7 in /home/ghost/Documents/CODE/myenv/lib/python3.9/site-packages (from pandas>=1.2->seaborn) (2025.1)\n",
      "Requirement already satisfied: async-lru>=1.0.0 in /home/ghost/Documents/CODE/myenv/lib/python3.9/site-packages (from jupyterlab->jupyter) (2.0.4)\n",
      "Requirement already satisfied: httpx>=0.25.0 in /home/ghost/Documents/CODE/myenv/lib/python3.9/site-packages (from jupyterlab->jupyter) (0.28.1)\n",
      "Requirement already satisfied: jinja2>=3.0.3 in /home/ghost/Documents/CODE/myenv/lib/python3.9/site-packages (from jupyterlab->jupyter) (3.1.5)\n",
      "Requirement already satisfied: jupyter-lsp>=2.0.0 in /home/ghost/Documents/CODE/myenv/lib/python3.9/site-packages (from jupyterlab->jupyter) (2.2.5)\n",
      "Requirement already satisfied: jupyter-server<3,>=2.4.0 in /home/ghost/Documents/CODE/myenv/lib/python3.9/site-packages (from jupyterlab->jupyter) (2.15.0)\n",
      "Requirement already satisfied: jupyterlab-server<3,>=2.27.1 in /home/ghost/Documents/CODE/myenv/lib/python3.9/site-packages (from jupyterlab->jupyter) (2.27.3)\n",
      "Requirement already satisfied: notebook-shim>=0.2 in /home/ghost/Documents/CODE/myenv/lib/python3.9/site-packages (from jupyterlab->jupyter) (0.2.4)\n",
      "Requirement already satisfied: setuptools>=40.8.0 in /home/ghost/Documents/CODE/myenv/lib/python3.9/site-packages (from jupyterlab->jupyter) (58.1.0)\n",
      "Requirement already satisfied: tomli>=1.2.2 in /home/ghost/Documents/CODE/myenv/lib/python3.9/site-packages (from jupyterlab->jupyter) (2.2.1)\n",
      "Requirement already satisfied: cryptography in /home/ghost/Documents/CODE/myenv/lib/python3.9/site-packages (from model-signing->kagglehub) (44.0.0)\n",
      "Requirement already satisfied: in-toto-attestation in /home/ghost/Documents/CODE/myenv/lib/python3.9/site-packages (from model-signing->kagglehub) (0.9.3)\n",
      "Requirement already satisfied: sigstore in /home/ghost/Documents/CODE/myenv/lib/python3.9/site-packages (from model-signing->kagglehub) (3.6.1)\n",
      "Requirement already satisfied: beautifulsoup4 in /home/ghost/Documents/CODE/myenv/lib/python3.9/site-packages (from nbconvert->jupyter) (4.12.3)\n",
      "Requirement already satisfied: bleach!=5.0.0 in /home/ghost/Documents/CODE/myenv/lib/python3.9/site-packages (from bleach[css]!=5.0.0->nbconvert->jupyter) (6.2.0)\n",
      "Requirement already satisfied: defusedxml in /home/ghost/Documents/CODE/myenv/lib/python3.9/site-packages (from nbconvert->jupyter) (0.7.1)\n",
      "Requirement already satisfied: jupyterlab-pygments in /home/ghost/Documents/CODE/myenv/lib/python3.9/site-packages (from nbconvert->jupyter) (0.3.0)\n",
      "Requirement already satisfied: markupsafe>=2.0 in /home/ghost/Documents/CODE/myenv/lib/python3.9/site-packages (from nbconvert->jupyter) (3.0.2)\n",
      "Requirement already satisfied: mistune<4,>=2.0.3 in /home/ghost/Documents/CODE/myenv/lib/python3.9/site-packages (from nbconvert->jupyter) (3.1.1)\n",
      "Requirement already satisfied: nbclient>=0.5.0 in /home/ghost/Documents/CODE/myenv/lib/python3.9/site-packages (from nbconvert->jupyter) (0.10.2)\n",
      "Requirement already satisfied: nbformat>=5.7 in /home/ghost/Documents/CODE/myenv/lib/python3.9/site-packages (from nbconvert->jupyter) (5.10.4)\n",
      "Requirement already satisfied: pandocfilters>=1.4.1 in /home/ghost/Documents/CODE/myenv/lib/python3.9/site-packages (from nbconvert->jupyter) (1.5.1)\n",
      "Requirement already satisfied: charset-normalizer<4,>=2 in /home/ghost/Documents/CODE/myenv/lib/python3.9/site-packages (from requests->kagglehub) (3.4.1)\n",
      "Requirement already satisfied: idna<4,>=2.5 in /home/ghost/Documents/CODE/myenv/lib/python3.9/site-packages (from requests->kagglehub) (3.10)\n",
      "Requirement already satisfied: urllib3<3,>=1.21.1 in /home/ghost/Documents/CODE/myenv/lib/python3.9/site-packages (from requests->kagglehub) (2.3.0)\n",
      "Requirement already satisfied: certifi>=2017.4.17 in /home/ghost/Documents/CODE/myenv/lib/python3.9/site-packages (from requests->kagglehub) (2025.1.31)\n",
      "Requirement already satisfied: webencodings in /home/ghost/Documents/CODE/myenv/lib/python3.9/site-packages (from bleach!=5.0.0->bleach[css]!=5.0.0->nbconvert->jupyter) (0.5.1)\n",
      "Requirement already satisfied: tinycss2<1.5,>=1.1.0 in /home/ghost/Documents/CODE/myenv/lib/python3.9/site-packages (from bleach[css]!=5.0.0->nbconvert->jupyter) (1.4.0)\n",
      "Requirement already satisfied: anyio in /home/ghost/Documents/CODE/myenv/lib/python3.9/site-packages (from httpx>=0.25.0->jupyterlab->jupyter) (4.8.0)\n",
      "Requirement already satisfied: httpcore==1.* in /home/ghost/Documents/CODE/myenv/lib/python3.9/site-packages (from httpx>=0.25.0->jupyterlab->jupyter) (1.0.7)\n",
      "Requirement already satisfied: h11<0.15,>=0.13 in /home/ghost/Documents/CODE/myenv/lib/python3.9/site-packages (from httpcore==1.*->httpx>=0.25.0->jupyterlab->jupyter) (0.14.0)\n",
      "Requirement already satisfied: zipp>=3.20 in /home/ghost/Documents/CODE/myenv/lib/python3.9/site-packages (from importlib-metadata>=4.8.3->jupyter-client>=6.1.12->ipykernel) (3.21.0)\n",
      "Requirement already satisfied: parso<0.9.0,>=0.8.4 in /home/ghost/Documents/CODE/myenv/lib/python3.9/site-packages (from jedi>=0.16->ipython>=7.23.1->ipykernel) (0.8.4)\n",
      "Requirement already satisfied: argon2-cffi>=21.1 in /home/ghost/Documents/CODE/myenv/lib/python3.9/site-packages (from jupyter-server<3,>=2.4.0->jupyterlab->jupyter) (23.1.0)\n",
      "Requirement already satisfied: jupyter-events>=0.11.0 in /home/ghost/Documents/CODE/myenv/lib/python3.9/site-packages (from jupyter-server<3,>=2.4.0->jupyterlab->jupyter) (0.11.0)\n",
      "Requirement already satisfied: jupyter-server-terminals>=0.4.4 in /home/ghost/Documents/CODE/myenv/lib/python3.9/site-packages (from jupyter-server<3,>=2.4.0->jupyterlab->jupyter) (0.5.3)\n",
      "Requirement already satisfied: overrides>=5.0 in /home/ghost/Documents/CODE/myenv/lib/python3.9/site-packages (from jupyter-server<3,>=2.4.0->jupyterlab->jupyter) (7.7.0)\n",
      "Requirement already satisfied: prometheus-client>=0.9 in /home/ghost/Documents/CODE/myenv/lib/python3.9/site-packages (from jupyter-server<3,>=2.4.0->jupyterlab->jupyter) (0.21.1)\n",
      "Requirement already satisfied: send2trash>=1.8.2 in /home/ghost/Documents/CODE/myenv/lib/python3.9/site-packages (from jupyter-server<3,>=2.4.0->jupyterlab->jupyter) (1.8.3)\n",
      "Requirement already satisfied: terminado>=0.8.3 in /home/ghost/Documents/CODE/myenv/lib/python3.9/site-packages (from jupyter-server<3,>=2.4.0->jupyterlab->jupyter) (0.18.1)\n",
      "Requirement already satisfied: websocket-client>=1.7 in /home/ghost/Documents/CODE/myenv/lib/python3.9/site-packages (from jupyter-server<3,>=2.4.0->jupyterlab->jupyter) (1.8.0)\n",
      "Requirement already satisfied: babel>=2.10 in /home/ghost/Documents/CODE/myenv/lib/python3.9/site-packages (from jupyterlab-server<3,>=2.27.1->jupyterlab->jupyter) (2.16.0)\n",
      "Requirement already satisfied: json5>=0.9.0 in /home/ghost/Documents/CODE/myenv/lib/python3.9/site-packages (from jupyterlab-server<3,>=2.27.1->jupyterlab->jupyter) (0.10.0)\n",
      "Requirement already satisfied: jsonschema>=4.18.0 in /home/ghost/Documents/CODE/myenv/lib/python3.9/site-packages (from jupyterlab-server<3,>=2.27.1->jupyterlab->jupyter) (4.23.0)\n",
      "Requirement already satisfied: fastjsonschema>=2.15 in /home/ghost/Documents/CODE/myenv/lib/python3.9/site-packages (from nbformat>=5.7->nbconvert->jupyter) (2.21.1)\n",
      "Requirement already satisfied: ptyprocess>=0.5 in /home/ghost/Documents/CODE/myenv/lib/python3.9/site-packages (from pexpect>4.3->ipython>=7.23.1->ipykernel) (0.7.0)\n",
      "Requirement already satisfied: wcwidth in /home/ghost/Documents/CODE/myenv/lib/python3.9/site-packages (from prompt-toolkit<3.1.0,>=3.0.41->ipython>=7.23.1->ipykernel) (0.2.13)\n",
      "Requirement already satisfied: six>=1.5 in /home/ghost/Documents/CODE/myenv/lib/python3.9/site-packages (from python-dateutil>=2.8.2->jupyter-client>=6.1.12->ipykernel) (1.17.0)\n",
      "Requirement already satisfied: soupsieve>1.2 in /home/ghost/Documents/CODE/myenv/lib/python3.9/site-packages (from beautifulsoup4->nbconvert->jupyter) (2.6)\n",
      "Requirement already satisfied: cffi>=1.12 in /home/ghost/Documents/CODE/myenv/lib/python3.9/site-packages (from cryptography->model-signing->kagglehub) (1.17.1)\n",
      "Requirement already satisfied: protobuf in /home/ghost/Documents/CODE/myenv/lib/python3.9/site-packages (from in-toto-attestation->model-signing->kagglehub) (5.29.3)\n",
      "Requirement already satisfied: id>=1.1.0 in /home/ghost/Documents/CODE/myenv/lib/python3.9/site-packages (from sigstore->model-signing->kagglehub) (1.5.0)\n",
      "Requirement already satisfied: pyasn1~=0.6 in /home/ghost/Documents/CODE/myenv/lib/python3.9/site-packages (from sigstore->model-signing->kagglehub) (0.6.1)\n",
      "Requirement already satisfied: pydantic<3,>=2 in /home/ghost/Documents/CODE/myenv/lib/python3.9/site-packages (from sigstore->model-signing->kagglehub) (2.10.6)\n",
      "Requirement already satisfied: pyjwt>=2.1 in /home/ghost/Documents/CODE/myenv/lib/python3.9/site-packages (from sigstore->model-signing->kagglehub) (2.10.1)\n",
      "Requirement already satisfied: pyOpenSSL>=23.0.0 in /home/ghost/Documents/CODE/myenv/lib/python3.9/site-packages (from sigstore->model-signing->kagglehub) (25.0.0)\n",
      "Requirement already satisfied: rich~=13.0 in /home/ghost/Documents/CODE/myenv/lib/python3.9/site-packages (from sigstore->model-signing->kagglehub) (13.9.4)\n",
      "Requirement already satisfied: rfc8785~=0.1.2 in /home/ghost/Documents/CODE/myenv/lib/python3.9/site-packages (from sigstore->model-signing->kagglehub) (0.1.4)\n",
      "Requirement already satisfied: rfc3161-client~=0.1.2 in /home/ghost/Documents/CODE/myenv/lib/python3.9/site-packages (from sigstore->model-signing->kagglehub) (0.1.2)\n",
      "Requirement already satisfied: sigstore-protobuf-specs==0.3.2 in /home/ghost/Documents/CODE/myenv/lib/python3.9/site-packages (from sigstore->model-signing->kagglehub) (0.3.2)\n",
      "Requirement already satisfied: sigstore-rekor-types==0.0.18 in /home/ghost/Documents/CODE/myenv/lib/python3.9/site-packages (from sigstore->model-signing->kagglehub) (0.0.18)\n",
      "Requirement already satisfied: tuf~=5.0 in /home/ghost/Documents/CODE/myenv/lib/python3.9/site-packages (from sigstore->model-signing->kagglehub) (5.1.0)\n",
      "Requirement already satisfied: betterproto==2.0.0b6 in /home/ghost/Documents/CODE/myenv/lib/python3.9/site-packages (from sigstore-protobuf-specs==0.3.2->sigstore->model-signing->kagglehub) (2.0.0b6)\n",
      "Requirement already satisfied: grpclib<0.5.0,>=0.4.1 in /home/ghost/Documents/CODE/myenv/lib/python3.9/site-packages (from betterproto==2.0.0b6->sigstore-protobuf-specs==0.3.2->sigstore->model-signing->kagglehub) (0.4.7)\n",
      "Requirement already satisfied: executing>=1.2.0 in /home/ghost/Documents/CODE/myenv/lib/python3.9/site-packages (from stack-data->ipython>=7.23.1->ipykernel) (2.2.0)\n",
      "Requirement already satisfied: asttokens>=2.1.0 in /home/ghost/Documents/CODE/myenv/lib/python3.9/site-packages (from stack-data->ipython>=7.23.1->ipykernel) (3.0.0)\n",
      "Requirement already satisfied: pure-eval in /home/ghost/Documents/CODE/myenv/lib/python3.9/site-packages (from stack-data->ipython>=7.23.1->ipykernel) (0.2.3)\n",
      "Requirement already satisfied: sniffio>=1.1 in /home/ghost/Documents/CODE/myenv/lib/python3.9/site-packages (from anyio->httpx>=0.25.0->jupyterlab->jupyter) (1.3.1)\n",
      "Requirement already satisfied: argon2-cffi-bindings in /home/ghost/Documents/CODE/myenv/lib/python3.9/site-packages (from argon2-cffi>=21.1->jupyter-server<3,>=2.4.0->jupyterlab->jupyter) (21.2.0)\n",
      "Requirement already satisfied: pycparser in /home/ghost/Documents/CODE/myenv/lib/python3.9/site-packages (from cffi>=1.12->cryptography->model-signing->kagglehub) (2.22)\n",
      "Requirement already satisfied: attrs>=22.2.0 in /home/ghost/Documents/CODE/myenv/lib/python3.9/site-packages (from jsonschema>=4.18.0->jupyterlab-server<3,>=2.27.1->jupyterlab->jupyter) (25.1.0)\n",
      "Requirement already satisfied: jsonschema-specifications>=2023.03.6 in /home/ghost/Documents/CODE/myenv/lib/python3.9/site-packages (from jsonschema>=4.18.0->jupyterlab-server<3,>=2.27.1->jupyterlab->jupyter) (2024.10.1)\n",
      "Requirement already satisfied: referencing>=0.28.4 in /home/ghost/Documents/CODE/myenv/lib/python3.9/site-packages (from jsonschema>=4.18.0->jupyterlab-server<3,>=2.27.1->jupyterlab->jupyter) (0.36.2)\n",
      "Requirement already satisfied: rpds-py>=0.7.1 in /home/ghost/Documents/CODE/myenv/lib/python3.9/site-packages (from jsonschema>=4.18.0->jupyterlab-server<3,>=2.27.1->jupyterlab->jupyter) (0.22.3)\n",
      "Requirement already satisfied: python-json-logger>=2.0.4 in /home/ghost/Documents/CODE/myenv/lib/python3.9/site-packages (from jupyter-events>=0.11.0->jupyter-server<3,>=2.4.0->jupyterlab->jupyter) (3.2.1)\n",
      "Requirement already satisfied: pyyaml>=5.3 in /home/ghost/Documents/CODE/myenv/lib/python3.9/site-packages (from jupyter-events>=0.11.0->jupyter-server<3,>=2.4.0->jupyterlab->jupyter) (6.0.2)\n",
      "Requirement already satisfied: rfc3339-validator in /home/ghost/Documents/CODE/myenv/lib/python3.9/site-packages (from jupyter-events>=0.11.0->jupyter-server<3,>=2.4.0->jupyterlab->jupyter) (0.1.4)\n",
      "Requirement already satisfied: rfc3986-validator>=0.1.1 in /home/ghost/Documents/CODE/myenv/lib/python3.9/site-packages (from jupyter-events>=0.11.0->jupyter-server<3,>=2.4.0->jupyterlab->jupyter) (0.1.1)\n",
      "Requirement already satisfied: annotated-types>=0.6.0 in /home/ghost/Documents/CODE/myenv/lib/python3.9/site-packages (from pydantic<3,>=2->sigstore->model-signing->kagglehub) (0.7.0)\n",
      "Requirement already satisfied: pydantic-core==2.27.2 in /home/ghost/Documents/CODE/myenv/lib/python3.9/site-packages (from pydantic<3,>=2->sigstore->model-signing->kagglehub) (2.27.2)\n",
      "Requirement already satisfied: markdown-it-py>=2.2.0 in /home/ghost/Documents/CODE/myenv/lib/python3.9/site-packages (from rich~=13.0->sigstore->model-signing->kagglehub) (3.0.0)\n",
      "Requirement already satisfied: securesystemslib~=1.0 in /home/ghost/Documents/CODE/myenv/lib/python3.9/site-packages (from tuf~=5.0->sigstore->model-signing->kagglehub) (1.2.0)\n",
      "Requirement already satisfied: fqdn in /home/ghost/Documents/CODE/myenv/lib/python3.9/site-packages (from jsonschema[format-nongpl]>=4.18.0->jupyter-events>=0.11.0->jupyter-server<3,>=2.4.0->jupyterlab->jupyter) (1.5.1)\n",
      "Requirement already satisfied: isoduration in /home/ghost/Documents/CODE/myenv/lib/python3.9/site-packages (from jsonschema[format-nongpl]>=4.18.0->jupyter-events>=0.11.0->jupyter-server<3,>=2.4.0->jupyterlab->jupyter) (20.11.0)\n",
      "Requirement already satisfied: jsonpointer>1.13 in /home/ghost/Documents/CODE/myenv/lib/python3.9/site-packages (from jsonschema[format-nongpl]>=4.18.0->jupyter-events>=0.11.0->jupyter-server<3,>=2.4.0->jupyterlab->jupyter) (3.0.0)\n",
      "Requirement already satisfied: uri-template in /home/ghost/Documents/CODE/myenv/lib/python3.9/site-packages (from jsonschema[format-nongpl]>=4.18.0->jupyter-events>=0.11.0->jupyter-server<3,>=2.4.0->jupyterlab->jupyter) (1.3.0)\n",
      "Requirement already satisfied: webcolors>=24.6.0 in /home/ghost/Documents/CODE/myenv/lib/python3.9/site-packages (from jsonschema[format-nongpl]>=4.18.0->jupyter-events>=0.11.0->jupyter-server<3,>=2.4.0->jupyterlab->jupyter) (24.11.1)\n",
      "Requirement already satisfied: mdurl~=0.1 in /home/ghost/Documents/CODE/myenv/lib/python3.9/site-packages (from markdown-it-py>=2.2.0->rich~=13.0->sigstore->model-signing->kagglehub) (0.1.2)\n",
      "Requirement already satisfied: email-validator>=2.0.0 in /home/ghost/Documents/CODE/myenv/lib/python3.9/site-packages (from pydantic[email]<3,>=2->sigstore-rekor-types==0.0.18->sigstore->model-signing->kagglehub) (2.2.0)\n",
      "Requirement already satisfied: dnspython>=2.0.0 in /home/ghost/Documents/CODE/myenv/lib/python3.9/site-packages (from email-validator>=2.0.0->pydantic[email]<3,>=2->sigstore-rekor-types==0.0.18->sigstore->model-signing->kagglehub) (2.7.0)\n",
      "Requirement already satisfied: h2<5,>=3.1.0 in /home/ghost/Documents/CODE/myenv/lib/python3.9/site-packages (from grpclib<0.5.0,>=0.4.1->betterproto==2.0.0b6->sigstore-protobuf-specs==0.3.2->sigstore->model-signing->kagglehub) (4.1.0)\n",
      "Requirement already satisfied: multidict in /home/ghost/Documents/CODE/myenv/lib/python3.9/site-packages (from grpclib<0.5.0,>=0.4.1->betterproto==2.0.0b6->sigstore-protobuf-specs==0.3.2->sigstore->model-signing->kagglehub) (6.1.0)\n",
      "Requirement already satisfied: arrow>=0.15.0 in /home/ghost/Documents/CODE/myenv/lib/python3.9/site-packages (from isoduration->jsonschema[format-nongpl]>=4.18.0->jupyter-events>=0.11.0->jupyter-server<3,>=2.4.0->jupyterlab->jupyter) (1.3.0)\n",
      "Requirement already satisfied: types-python-dateutil>=2.8.10 in /home/ghost/Documents/CODE/myenv/lib/python3.9/site-packages (from arrow>=0.15.0->isoduration->jsonschema[format-nongpl]>=4.18.0->jupyter-events>=0.11.0->jupyter-server<3,>=2.4.0->jupyterlab->jupyter) (2.9.0.20241206)\n",
      "Requirement already satisfied: hyperframe<7,>=6.0 in /home/ghost/Documents/CODE/myenv/lib/python3.9/site-packages (from h2<5,>=3.1.0->grpclib<0.5.0,>=0.4.1->betterproto==2.0.0b6->sigstore-protobuf-specs==0.3.2->sigstore->model-signing->kagglehub) (6.1.0)\n",
      "Requirement already satisfied: hpack<5,>=4.0 in /home/ghost/Documents/CODE/myenv/lib/python3.9/site-packages (from h2<5,>=3.1.0->grpclib<0.5.0,>=0.4.1->betterproto==2.0.0b6->sigstore-protobuf-specs==0.3.2->sigstore->model-signing->kagglehub) (4.1.0)\n",
      "Note: you may need to restart the kernel to use updated packages.\n"
     ]
    }
   ],
   "source": [
    "%pip install --upgrade pip\n",
    "%pip install xgboost scikit-learn kagglehub jupyter ipykernel ipywidgets lightgbm seaborn\n",
    "import pandas as pd\n",
    "import numpy as np \n",
    "import matplotlib.pyplot as plt \n",
    "import seaborn as sns\n",
    "from sklearn.model_selection import train_test_split\n",
    "from sklearn.linear_model import LinearRegression\n",
    "from sklearn.ensemble import RandomForestRegressor\n",
    "from sklearn.ensemble import GradientBoostingRegressor\n",
    "from sklearn.metrics import mean_absolute_error, mean_squared_error, r2_score, accuracy_score, confusion_matrix, classification_report\n",
    "from sklearn.ensemble import RandomForestRegressor\n",
    "from sklearn.ensemble import RandomForestClassifier\n",
    "pd.set_option('display.max_rows', None) "
   ]
  },
  {
   "cell_type": "code",
   "execution_count": 5,
   "metadata": {
    "id": "JY1M07P-87q_",
    "trusted": true
   },
   "outputs": [
    {
     "name": "stdout",
     "output_type": "stream",
     "text": [
      "Downloading from https://www.kaggle.com/api/v1/datasets/download/mahdiehhajian/bank-marketing?dataset_version_number=1...\n"
     ]
    },
    {
     "name": "stderr",
     "output_type": "stream",
     "text": [
      "100%|██████████| 1.01M/1.01M [00:01<00:00, 574kB/s]"
     ]
    },
    {
     "name": "stdout",
     "output_type": "stream",
     "text": [
      "Extracting files...\n",
      "/home/ghost/.cache/kagglehub/datasets/mahdiehhajian/bank-marketing/versions/1/bank/bank-full.csv\n"
     ]
    },
    {
     "name": "stderr",
     "output_type": "stream",
     "text": [
      "\n"
     ]
    }
   ],
   "source": [
    "import kagglehub\n",
    "data_path = kagglehub.dataset_download('mahdiehhajian/bank-marketing')+ '/bank/bank-full.csv'\n",
    "print(data_path)\n",
    "dataset = pd.read_csv(data_path, sep=';')\n",
    "df=dataset.copy()"
   ]
  },
  {
   "cell_type": "code",
   "execution_count": 6,
   "metadata": {
    "id": "IH9rFjU9dBRn",
    "outputId": "c3df94ed-073d-4634-df00-93a938c811c1",
    "trusted": true
   },
   "outputs": [
    {
     "data": {
      "text/html": [
       "<div>\n",
       "<style scoped>\n",
       "    .dataframe tbody tr th:only-of-type {\n",
       "        vertical-align: middle;\n",
       "    }\n",
       "\n",
       "    .dataframe tbody tr th {\n",
       "        vertical-align: top;\n",
       "    }\n",
       "\n",
       "    .dataframe thead th {\n",
       "        text-align: right;\n",
       "    }\n",
       "</style>\n",
       "<table border=\"1\" class=\"dataframe\">\n",
       "  <thead>\n",
       "    <tr style=\"text-align: right;\">\n",
       "      <th></th>\n",
       "      <th>age</th>\n",
       "      <th>job</th>\n",
       "      <th>marital</th>\n",
       "      <th>education</th>\n",
       "      <th>default</th>\n",
       "      <th>balance</th>\n",
       "      <th>housing</th>\n",
       "      <th>loan</th>\n",
       "      <th>contact</th>\n",
       "      <th>day</th>\n",
       "      <th>month</th>\n",
       "      <th>duration</th>\n",
       "      <th>campaign</th>\n",
       "      <th>pdays</th>\n",
       "      <th>previous</th>\n",
       "      <th>poutcome</th>\n",
       "      <th>y</th>\n",
       "    </tr>\n",
       "  </thead>\n",
       "  <tbody>\n",
       "    <tr>\n",
       "      <th>0</th>\n",
       "      <td>58</td>\n",
       "      <td>management</td>\n",
       "      <td>married</td>\n",
       "      <td>tertiary</td>\n",
       "      <td>no</td>\n",
       "      <td>2143</td>\n",
       "      <td>yes</td>\n",
       "      <td>no</td>\n",
       "      <td>unknown</td>\n",
       "      <td>5</td>\n",
       "      <td>may</td>\n",
       "      <td>261</td>\n",
       "      <td>1</td>\n",
       "      <td>-1</td>\n",
       "      <td>0</td>\n",
       "      <td>unknown</td>\n",
       "      <td>no</td>\n",
       "    </tr>\n",
       "    <tr>\n",
       "      <th>1</th>\n",
       "      <td>44</td>\n",
       "      <td>technician</td>\n",
       "      <td>single</td>\n",
       "      <td>secondary</td>\n",
       "      <td>no</td>\n",
       "      <td>29</td>\n",
       "      <td>yes</td>\n",
       "      <td>no</td>\n",
       "      <td>unknown</td>\n",
       "      <td>5</td>\n",
       "      <td>may</td>\n",
       "      <td>151</td>\n",
       "      <td>1</td>\n",
       "      <td>-1</td>\n",
       "      <td>0</td>\n",
       "      <td>unknown</td>\n",
       "      <td>no</td>\n",
       "    </tr>\n",
       "    <tr>\n",
       "      <th>2</th>\n",
       "      <td>33</td>\n",
       "      <td>entrepreneur</td>\n",
       "      <td>married</td>\n",
       "      <td>secondary</td>\n",
       "      <td>no</td>\n",
       "      <td>2</td>\n",
       "      <td>yes</td>\n",
       "      <td>yes</td>\n",
       "      <td>unknown</td>\n",
       "      <td>5</td>\n",
       "      <td>may</td>\n",
       "      <td>76</td>\n",
       "      <td>1</td>\n",
       "      <td>-1</td>\n",
       "      <td>0</td>\n",
       "      <td>unknown</td>\n",
       "      <td>no</td>\n",
       "    </tr>\n",
       "    <tr>\n",
       "      <th>3</th>\n",
       "      <td>47</td>\n",
       "      <td>blue-collar</td>\n",
       "      <td>married</td>\n",
       "      <td>unknown</td>\n",
       "      <td>no</td>\n",
       "      <td>1506</td>\n",
       "      <td>yes</td>\n",
       "      <td>no</td>\n",
       "      <td>unknown</td>\n",
       "      <td>5</td>\n",
       "      <td>may</td>\n",
       "      <td>92</td>\n",
       "      <td>1</td>\n",
       "      <td>-1</td>\n",
       "      <td>0</td>\n",
       "      <td>unknown</td>\n",
       "      <td>no</td>\n",
       "    </tr>\n",
       "    <tr>\n",
       "      <th>4</th>\n",
       "      <td>33</td>\n",
       "      <td>unknown</td>\n",
       "      <td>single</td>\n",
       "      <td>unknown</td>\n",
       "      <td>no</td>\n",
       "      <td>1</td>\n",
       "      <td>no</td>\n",
       "      <td>no</td>\n",
       "      <td>unknown</td>\n",
       "      <td>5</td>\n",
       "      <td>may</td>\n",
       "      <td>198</td>\n",
       "      <td>1</td>\n",
       "      <td>-1</td>\n",
       "      <td>0</td>\n",
       "      <td>unknown</td>\n",
       "      <td>no</td>\n",
       "    </tr>\n",
       "  </tbody>\n",
       "</table>\n",
       "</div>"
      ],
      "text/plain": [
       "   age           job  marital  education default  balance housing loan  \\\n",
       "0   58    management  married   tertiary      no     2143     yes   no   \n",
       "1   44    technician   single  secondary      no       29     yes   no   \n",
       "2   33  entrepreneur  married  secondary      no        2     yes  yes   \n",
       "3   47   blue-collar  married    unknown      no     1506     yes   no   \n",
       "4   33       unknown   single    unknown      no        1      no   no   \n",
       "\n",
       "   contact  day month  duration  campaign  pdays  previous poutcome   y  \n",
       "0  unknown    5   may       261         1     -1         0  unknown  no  \n",
       "1  unknown    5   may       151         1     -1         0  unknown  no  \n",
       "2  unknown    5   may        76         1     -1         0  unknown  no  \n",
       "3  unknown    5   may        92         1     -1         0  unknown  no  \n",
       "4  unknown    5   may       198         1     -1         0  unknown  no  "
      ]
     },
     "execution_count": 6,
     "metadata": {},
     "output_type": "execute_result"
    }
   ],
   "source": [
    "df.head()"
   ]
  },
  {
   "cell_type": "code",
   "execution_count": 7,
   "metadata": {
    "id": "V1bhOH_qdDy6",
    "outputId": "46f098e3-130f-4435-bf66-cca993dce9e1",
    "trusted": true
   },
   "outputs": [
    {
     "name": "stdout",
     "output_type": "stream",
     "text": [
      "<class 'pandas.core.frame.DataFrame'>\n",
      "RangeIndex: 45211 entries, 0 to 45210\n",
      "Data columns (total 17 columns):\n",
      " #   Column     Non-Null Count  Dtype \n",
      "---  ------     --------------  ----- \n",
      " 0   age        45211 non-null  int64 \n",
      " 1   job        45211 non-null  object\n",
      " 2   marital    45211 non-null  object\n",
      " 3   education  45211 non-null  object\n",
      " 4   default    45211 non-null  object\n",
      " 5   balance    45211 non-null  int64 \n",
      " 6   housing    45211 non-null  object\n",
      " 7   loan       45211 non-null  object\n",
      " 8   contact    45211 non-null  object\n",
      " 9   day        45211 non-null  int64 \n",
      " 10  month      45211 non-null  object\n",
      " 11  duration   45211 non-null  int64 \n",
      " 12  campaign   45211 non-null  int64 \n",
      " 13  pdays      45211 non-null  int64 \n",
      " 14  previous   45211 non-null  int64 \n",
      " 15  poutcome   45211 non-null  object\n",
      " 16  y          45211 non-null  object\n",
      "dtypes: int64(7), object(10)\n",
      "memory usage: 5.9+ MB\n"
     ]
    }
   ],
   "source": [
    "df.info()"
   ]
  },
  {
   "cell_type": "code",
   "execution_count": 8,
   "metadata": {
    "id": "Ww7yAZNZdQHa",
    "outputId": "957d5be4-554b-4e88-fc46-0b75ff9371e8",
    "trusted": true
   },
   "outputs": [
    {
     "data": {
      "text/html": [
       "<div>\n",
       "<style scoped>\n",
       "    .dataframe tbody tr th:only-of-type {\n",
       "        vertical-align: middle;\n",
       "    }\n",
       "\n",
       "    .dataframe tbody tr th {\n",
       "        vertical-align: top;\n",
       "    }\n",
       "\n",
       "    .dataframe thead th {\n",
       "        text-align: right;\n",
       "    }\n",
       "</style>\n",
       "<table border=\"1\" class=\"dataframe\">\n",
       "  <thead>\n",
       "    <tr style=\"text-align: right;\">\n",
       "      <th></th>\n",
       "      <th>age</th>\n",
       "      <th>balance</th>\n",
       "      <th>day</th>\n",
       "      <th>duration</th>\n",
       "      <th>campaign</th>\n",
       "      <th>pdays</th>\n",
       "      <th>previous</th>\n",
       "    </tr>\n",
       "  </thead>\n",
       "  <tbody>\n",
       "    <tr>\n",
       "      <th>count</th>\n",
       "      <td>45211.000000</td>\n",
       "      <td>45211.000000</td>\n",
       "      <td>45211.000000</td>\n",
       "      <td>45211.000000</td>\n",
       "      <td>45211.000000</td>\n",
       "      <td>45211.000000</td>\n",
       "      <td>45211.000000</td>\n",
       "    </tr>\n",
       "    <tr>\n",
       "      <th>mean</th>\n",
       "      <td>40.936210</td>\n",
       "      <td>1362.272058</td>\n",
       "      <td>15.806419</td>\n",
       "      <td>258.163080</td>\n",
       "      <td>2.763841</td>\n",
       "      <td>40.197828</td>\n",
       "      <td>0.580323</td>\n",
       "    </tr>\n",
       "    <tr>\n",
       "      <th>std</th>\n",
       "      <td>10.618762</td>\n",
       "      <td>3044.765829</td>\n",
       "      <td>8.322476</td>\n",
       "      <td>257.527812</td>\n",
       "      <td>3.098021</td>\n",
       "      <td>100.128746</td>\n",
       "      <td>2.303441</td>\n",
       "    </tr>\n",
       "    <tr>\n",
       "      <th>min</th>\n",
       "      <td>18.000000</td>\n",
       "      <td>-8019.000000</td>\n",
       "      <td>1.000000</td>\n",
       "      <td>0.000000</td>\n",
       "      <td>1.000000</td>\n",
       "      <td>-1.000000</td>\n",
       "      <td>0.000000</td>\n",
       "    </tr>\n",
       "    <tr>\n",
       "      <th>25%</th>\n",
       "      <td>33.000000</td>\n",
       "      <td>72.000000</td>\n",
       "      <td>8.000000</td>\n",
       "      <td>103.000000</td>\n",
       "      <td>1.000000</td>\n",
       "      <td>-1.000000</td>\n",
       "      <td>0.000000</td>\n",
       "    </tr>\n",
       "    <tr>\n",
       "      <th>50%</th>\n",
       "      <td>39.000000</td>\n",
       "      <td>448.000000</td>\n",
       "      <td>16.000000</td>\n",
       "      <td>180.000000</td>\n",
       "      <td>2.000000</td>\n",
       "      <td>-1.000000</td>\n",
       "      <td>0.000000</td>\n",
       "    </tr>\n",
       "    <tr>\n",
       "      <th>75%</th>\n",
       "      <td>48.000000</td>\n",
       "      <td>1428.000000</td>\n",
       "      <td>21.000000</td>\n",
       "      <td>319.000000</td>\n",
       "      <td>3.000000</td>\n",
       "      <td>-1.000000</td>\n",
       "      <td>0.000000</td>\n",
       "    </tr>\n",
       "    <tr>\n",
       "      <th>max</th>\n",
       "      <td>95.000000</td>\n",
       "      <td>102127.000000</td>\n",
       "      <td>31.000000</td>\n",
       "      <td>4918.000000</td>\n",
       "      <td>63.000000</td>\n",
       "      <td>871.000000</td>\n",
       "      <td>275.000000</td>\n",
       "    </tr>\n",
       "  </tbody>\n",
       "</table>\n",
       "</div>"
      ],
      "text/plain": [
       "                age        balance           day      duration      campaign  \\\n",
       "count  45211.000000   45211.000000  45211.000000  45211.000000  45211.000000   \n",
       "mean      40.936210    1362.272058     15.806419    258.163080      2.763841   \n",
       "std       10.618762    3044.765829      8.322476    257.527812      3.098021   \n",
       "min       18.000000   -8019.000000      1.000000      0.000000      1.000000   \n",
       "25%       33.000000      72.000000      8.000000    103.000000      1.000000   \n",
       "50%       39.000000     448.000000     16.000000    180.000000      2.000000   \n",
       "75%       48.000000    1428.000000     21.000000    319.000000      3.000000   \n",
       "max       95.000000  102127.000000     31.000000   4918.000000     63.000000   \n",
       "\n",
       "              pdays      previous  \n",
       "count  45211.000000  45211.000000  \n",
       "mean      40.197828      0.580323  \n",
       "std      100.128746      2.303441  \n",
       "min       -1.000000      0.000000  \n",
       "25%       -1.000000      0.000000  \n",
       "50%       -1.000000      0.000000  \n",
       "75%       -1.000000      0.000000  \n",
       "max      871.000000    275.000000  "
      ]
     },
     "execution_count": 8,
     "metadata": {},
     "output_type": "execute_result"
    }
   ],
   "source": [
    "df.describe()"
   ]
  },
  {
   "cell_type": "code",
   "execution_count": 9,
   "metadata": {
    "id": "ZR8bYsE4dT-W",
    "outputId": "d56105d5-a5dc-4ff6-ed0d-e509ec50fb61",
    "trusted": true
   },
   "outputs": [
    {
     "data": {
      "text/plain": [
       "age          0\n",
       "job          0\n",
       "marital      0\n",
       "education    0\n",
       "default      0\n",
       "balance      0\n",
       "housing      0\n",
       "loan         0\n",
       "contact      0\n",
       "day          0\n",
       "month        0\n",
       "duration     0\n",
       "campaign     0\n",
       "pdays        0\n",
       "previous     0\n",
       "poutcome     0\n",
       "y            0\n",
       "dtype: int64"
      ]
     },
     "execution_count": 9,
     "metadata": {},
     "output_type": "execute_result"
    }
   ],
   "source": [
    "df.isnull().sum()"
   ]
  },
  {
   "cell_type": "code",
   "execution_count": 10,
   "metadata": {
    "id": "BliEgYprddHF",
    "outputId": "85a66418-9432-411d-b9c4-a4811342e778",
    "trusted": true
   },
   "outputs": [
    {
     "data": {
      "text/plain": [
       "job\n",
       "blue-collar      9732\n",
       "management       9458\n",
       "technician       7597\n",
       "admin.           5171\n",
       "services         4154\n",
       "retired          2264\n",
       "self-employed    1579\n",
       "entrepreneur     1487\n",
       "unemployed       1303\n",
       "housemaid        1240\n",
       "student           938\n",
       "unknown           288\n",
       "Name: count, dtype: int64"
      ]
     },
     "execution_count": 10,
     "metadata": {},
     "output_type": "execute_result"
    }
   ],
   "source": [
    "df['job'].value_counts()"
   ]
  },
  {
   "cell_type": "code",
   "execution_count": 11,
   "metadata": {
    "id": "YL6WWNttdicX",
    "outputId": "4130e392-4073-49be-92ed-f32c659147f4",
    "trusted": true
   },
   "outputs": [
    {
     "data": {
      "image/png": "[encoded data removed]",
      "text/plain": [
       "<Figure size 1000x400 with 1 Axes>"
      ]
     },
     "metadata": {},
     "output_type": "display_data"
    }
   ],
   "source": [
    "plt.figure(figsize=(10, 4))\n",
    "sns.countplot(x=df['job'])\n",
    "plt.xticks(rotation=45)\n",
    "plt.title(\"Job Distribution\")\n",
    "plt.show()"
   ]
  },
  {
   "cell_type": "code",
   "execution_count": 12,
   "metadata": {
    "id": "qfcHYK53dpka",
    "outputId": "df08671d-a73f-4ce1-cf21-a97213b972da",
    "trusted": true
   },
   "outputs": [
    {
     "data": {
      "image/png": "[encoded data removed]",
      "text/plain": [
       "<Figure size 1000x400 with 1 Axes>"
      ]
     },
     "metadata": {},
     "output_type": "display_data"
    }
   ],
   "source": [
    "plt.figure(figsize=(10,4))\n",
    "sns.histplot(df['age'], kde=True)\n",
    "plt.show()"
   ]
  },
  {
   "cell_type": "code",
   "execution_count": 13,
   "metadata": {
    "id": "Zqe7C-hddvzW",
    "outputId": "dc0d0df4-ca2d-4a53-bea9-272a222f424f",
    "trusted": true
   },
   "outputs": [
    {
     "data": {
      "image/png": "[encoded data removed]",
      "text/plain": [
       "<Figure size 1000x400 with 1 Axes>"
      ]
     },
     "metadata": {},
     "output_type": "display_data"
    }
   ],
   "source": [
    "plt.figure(figsize=(10,4))\n",
    "sns.countplot(x=df['y'])\n",
    "plt.show()"
   ]
  },
  {
   "cell_type": "code",
   "execution_count": 14,
   "metadata": {
    "id": "WksshcXMd0nK",
    "outputId": "dd59c6e6-4683-4171-90ba-9e6cd4cfa6be",
    "trusted": true
   },
   "outputs": [
    {
     "name": "stdout",
     "output_type": "stream",
     "text": [
      "age              0\n",
      "job            288\n",
      "marital          0\n",
      "education     1857\n",
      "default          0\n",
      "balance          0\n",
      "housing          0\n",
      "loan             0\n",
      "contact      13020\n",
      "day              0\n",
      "month            0\n",
      "duration         0\n",
      "campaign         0\n",
      "pdays            0\n",
      "previous         0\n",
      "poutcome     36959\n",
      "y                0\n",
      "dtype: int64\n"
     ]
    }
   ],
   "source": [
    "unknown_counts = df.apply(lambda x: x[x == 'unknown'].count())\n",
    "total_counts = df.shape[0]\n",
    "unknown_percentage = (unknown_counts / total_counts) * 100\n",
    "print(unknown_counts)"
   ]
  },
  {
   "cell_type": "code",
   "execution_count": 15,
   "metadata": {
    "id": "wF48dcCUd5q6",
    "outputId": "715da3db-03db-48b1-f4be-af0c820d5540",
    "trusted": true
   },
   "outputs": [
    {
     "data": {
      "text/plain": [
       "(45211, 17)"
      ]
     },
     "execution_count": 15,
     "metadata": {},
     "output_type": "execute_result"
    }
   ],
   "source": [
    "df.shape"
   ]
  },
  {
   "cell_type": "code",
   "execution_count": 16,
   "metadata": {
    "id": "oj5yIL8Xd8-m",
    "outputId": "fcd80111-a2c7-46b3-dd7b-b38fa2a1f209",
    "trusted": true
   },
   "outputs": [
    {
     "data": {
      "text/plain": [
       "contact\n",
       "cellular     29285\n",
       "unknown      13020\n",
       "telephone     2906\n",
       "Name: count, dtype: int64"
      ]
     },
     "execution_count": 16,
     "metadata": {},
     "output_type": "execute_result"
    }
   ],
   "source": [
    "df.contact.value_counts()"
   ]
  },
  {
   "cell_type": "code",
   "execution_count": 17,
   "metadata": {
    "id": "I7vMCLkxd_qD",
    "outputId": "49257653-a61c-46e5-d6df-ae572e5ec7e5",
    "trusted": true
   },
   "outputs": [
    {
     "data": {
      "text/plain": [
       "poutcome\n",
       "unknown    36959\n",
       "failure     4901\n",
       "other       1840\n",
       "success     1511\n",
       "Name: count, dtype: int64"
      ]
     },
     "execution_count": 17,
     "metadata": {},
     "output_type": "execute_result"
    }
   ],
   "source": [
    "df.poutcome.value_counts()"
   ]
  },
  {
   "cell_type": "code",
   "execution_count": 18,
   "metadata": {
    "id": "LBPl9h7EeJr9",
    "trusted": true
   },
   "outputs": [],
   "source": [
    "df.drop(df[df['education'] == 'unknown'].index, inplace=True)\n",
    "df.drop(df[df['job'] == 'unknown'].index, inplace=True)"
   ]
  },
  {
   "cell_type": "code",
   "execution_count": 19,
   "metadata": {
    "id": "gG0HEr0neNNn",
    "outputId": "69ee9897-83ae-4990-b1a3-f42cba73b10b",
    "trusted": true
   },
   "outputs": [
    {
     "data": {
      "text/plain": [
       "y\n",
       "0    38172\n",
       "1     5021\n",
       "Name: count, dtype: int64"
      ]
     },
     "execution_count": 19,
     "metadata": {},
     "output_type": "execute_result"
    }
   ],
   "source": [
    "df['y'] = df['y'].apply(lambda x: 1 if x == 'yes' else 0)\n",
    "df['y'].value_counts()"
   ]
  },
  {
   "cell_type": "code",
   "execution_count": 20,
   "metadata": {
    "id": "pl5MS9VXeQUw",
    "trusted": true
   },
   "outputs": [],
   "source": [
    "df['job'] = df['job'].map({\n",
    "    'admin.': 0, 'blue-collar': 1, 'entrepreneur': 2, 'housemaid': 3,\n",
    "    'management': 4, 'retired': 5, 'self-employed': 6, 'services': 7,\n",
    "    'student': 8, 'technician': 9, 'unemployed': 10})\n",
    "df['marital'] = df['marital'].map({'married': 0, 'single': 1, 'divorced': 2})"
   ]
  },
  {
   "cell_type": "code",
   "execution_count": 21,
   "metadata": {
    "id": "euaXfAyieTL7",
    "trusted": true
   },
   "outputs": [],
   "source": [
    "month_mapping = {\n",
    "    'jan': 1, 'feb': 2, 'mar': 3, 'apr': 4, 'may': 5, 'jun': 6,\n",
    "    'jul': 7, 'aug': 8, 'sep': 9, 'oct': 10, 'nov': 11, 'dec': 12\n",
    "}\n",
    "df['month'] = df['month'].map(month_mapping)"
   ]
  },
  {
   "cell_type": "code",
   "execution_count": 22,
   "metadata": {
    "id": "NvNOFrNjhR5p",
    "outputId": "00799315-3e01-4482-dcce-674c6ab9c9aa",
    "trusted": true
   },
   "outputs": [
    {
     "data": {
      "text/html": [
       "<div>\n",
       "<style scoped>\n",
       "    .dataframe tbody tr th:only-of-type {\n",
       "        vertical-align: middle;\n",
       "    }\n",
       "\n",
       "    .dataframe tbody tr th {\n",
       "        vertical-align: top;\n",
       "    }\n",
       "\n",
       "    .dataframe thead th {\n",
       "        text-align: right;\n",
       "    }\n",
       "</style>\n",
       "<table border=\"1\" class=\"dataframe\">\n",
       "  <thead>\n",
       "    <tr style=\"text-align: right;\">\n",
       "      <th></th>\n",
       "      <th>age</th>\n",
       "      <th>job</th>\n",
       "      <th>marital</th>\n",
       "      <th>education</th>\n",
       "      <th>default</th>\n",
       "      <th>balance</th>\n",
       "      <th>housing</th>\n",
       "      <th>loan</th>\n",
       "      <th>contact</th>\n",
       "      <th>day</th>\n",
       "      <th>month</th>\n",
       "      <th>duration</th>\n",
       "      <th>campaign</th>\n",
       "      <th>pdays</th>\n",
       "      <th>previous</th>\n",
       "      <th>poutcome</th>\n",
       "      <th>y</th>\n",
       "    </tr>\n",
       "  </thead>\n",
       "  <tbody>\n",
       "    <tr>\n",
       "      <th>0</th>\n",
       "      <td>58</td>\n",
       "      <td>4</td>\n",
       "      <td>0</td>\n",
       "      <td>tertiary</td>\n",
       "      <td>no</td>\n",
       "      <td>2143</td>\n",
       "      <td>yes</td>\n",
       "      <td>no</td>\n",
       "      <td>unknown</td>\n",
       "      <td>5</td>\n",
       "      <td>5</td>\n",
       "      <td>261</td>\n",
       "      <td>1</td>\n",
       "      <td>-1</td>\n",
       "      <td>0</td>\n",
       "      <td>unknown</td>\n",
       "      <td>0</td>\n",
       "    </tr>\n",
       "    <tr>\n",
       "      <th>1</th>\n",
       "      <td>44</td>\n",
       "      <td>9</td>\n",
       "      <td>1</td>\n",
       "      <td>secondary</td>\n",
       "      <td>no</td>\n",
       "      <td>29</td>\n",
       "      <td>yes</td>\n",
       "      <td>no</td>\n",
       "      <td>unknown</td>\n",
       "      <td>5</td>\n",
       "      <td>5</td>\n",
       "      <td>151</td>\n",
       "      <td>1</td>\n",
       "      <td>-1</td>\n",
       "      <td>0</td>\n",
       "      <td>unknown</td>\n",
       "      <td>0</td>\n",
       "    </tr>\n",
       "    <tr>\n",
       "      <th>2</th>\n",
       "      <td>33</td>\n",
       "      <td>2</td>\n",
       "      <td>0</td>\n",
       "      <td>secondary</td>\n",
       "      <td>no</td>\n",
       "      <td>2</td>\n",
       "      <td>yes</td>\n",
       "      <td>yes</td>\n",
       "      <td>unknown</td>\n",
       "      <td>5</td>\n",
       "      <td>5</td>\n",
       "      <td>76</td>\n",
       "      <td>1</td>\n",
       "      <td>-1</td>\n",
       "      <td>0</td>\n",
       "      <td>unknown</td>\n",
       "      <td>0</td>\n",
       "    </tr>\n",
       "    <tr>\n",
       "      <th>5</th>\n",
       "      <td>35</td>\n",
       "      <td>4</td>\n",
       "      <td>0</td>\n",
       "      <td>tertiary</td>\n",
       "      <td>no</td>\n",
       "      <td>231</td>\n",
       "      <td>yes</td>\n",
       "      <td>no</td>\n",
       "      <td>unknown</td>\n",
       "      <td>5</td>\n",
       "      <td>5</td>\n",
       "      <td>139</td>\n",
       "      <td>1</td>\n",
       "      <td>-1</td>\n",
       "      <td>0</td>\n",
       "      <td>unknown</td>\n",
       "      <td>0</td>\n",
       "    </tr>\n",
       "    <tr>\n",
       "      <th>6</th>\n",
       "      <td>28</td>\n",
       "      <td>4</td>\n",
       "      <td>1</td>\n",
       "      <td>tertiary</td>\n",
       "      <td>no</td>\n",
       "      <td>447</td>\n",
       "      <td>yes</td>\n",
       "      <td>yes</td>\n",
       "      <td>unknown</td>\n",
       "      <td>5</td>\n",
       "      <td>5</td>\n",
       "      <td>217</td>\n",
       "      <td>1</td>\n",
       "      <td>-1</td>\n",
       "      <td>0</td>\n",
       "      <td>unknown</td>\n",
       "      <td>0</td>\n",
       "    </tr>\n",
       "  </tbody>\n",
       "</table>\n",
       "</div>"
      ],
      "text/plain": [
       "   age  job  marital  education default  balance housing loan  contact  day  \\\n",
       "0   58    4        0   tertiary      no     2143     yes   no  unknown    5   \n",
       "1   44    9        1  secondary      no       29     yes   no  unknown    5   \n",
       "2   33    2        0  secondary      no        2     yes  yes  unknown    5   \n",
       "5   35    4        0   tertiary      no      231     yes   no  unknown    5   \n",
       "6   28    4        1   tertiary      no      447     yes  yes  unknown    5   \n",
       "\n",
       "   month  duration  campaign  pdays  previous poutcome  y  \n",
       "0      5       261         1     -1         0  unknown  0  \n",
       "1      5       151         1     -1         0  unknown  0  \n",
       "2      5        76         1     -1         0  unknown  0  \n",
       "5      5       139         1     -1         0  unknown  0  \n",
       "6      5       217         1     -1         0  unknown  0  "
      ]
     },
     "execution_count": 22,
     "metadata": {},
     "output_type": "execute_result"
    }
   ],
   "source": [
    "df.head()"
   ]
  },
  {
   "cell_type": "code",
   "execution_count": 23,
   "metadata": {
    "id": "ky6wpdyGg9CP",
    "outputId": "2ddd7921-e8d4-47e1-80bb-addefb569f2a",
    "trusted": true
   },
   "outputs": [
    {
     "data": {
      "image/png": "[encoded data removed]",
      "text/plain": [
       "<Figure size 1500x1000 with 2 Axes>"
      ]
     },
     "metadata": {},
     "output_type": "display_data"
    }
   ],
   "source": [
    "plt.figure(figsize=(15,10))\n",
    "numeric_df = df.select_dtypes(include=np.number) # Now np is recognized\n",
    "sns.heatmap(numeric_df.corr(), annot=True, cmap='coolwarm', linewidths=0.5)\n",
    "plt.show()"
   ]
  },
  {
   "cell_type": "code",
   "execution_count": 24,
   "metadata": {
    "id": "NgOXT9w9ikUY",
    "trusted": true
   },
   "outputs": [],
   "source": [
    "X = df.drop('y', axis=1)\n",
    "y = df['y']"
   ]
  },
  {
   "cell_type": "code",
   "execution_count": 25,
   "metadata": {
    "id": "ZKY2MIa8iqsc",
    "outputId": "25891b2c-494d-4286-ec25-7e96eb98255d",
    "trusted": true
   },
   "outputs": [
    {
     "name": "stdout",
     "output_type": "stream",
     "text": [
      "(34554, 16) (8639, 16) (34554,) (8639,)\n"
     ]
    }
   ],
   "source": [
    "X_train, X_test, y_train, y_test = train_test_split(X, y, test_size=0.2, random_state=42)\n",
    "print(X_train.shape, X_test.shape, y_train.shape, y_test.shape) "
   ]
  },
  {
   "cell_type": "code",
   "execution_count": 26,
   "metadata": {
    "id": "e2zf6_iHmOGC",
    "outputId": "01d961bc-d823-47a8-8a34-5d045c2c2e48",
    "trusted": true
   },
   "outputs": [
    {
     "name": "stdout",
     "output_type": "stream",
     "text": [
      "Logistic Regression Accuracy: 0.893158930431763\n",
      "Confusion Matrix:\n",
      " [[7496  162]\n",
      " [ 761  220]]\n",
      "Classification Report:\n",
      "               precision    recall  f1-score   support\n",
      "\n",
      "           0       0.91      0.98      0.94      7658\n",
      "           1       0.58      0.22      0.32       981\n",
      "\n",
      "    accuracy                           0.89      8639\n",
      "   macro avg       0.74      0.60      0.63      8639\n",
      "weighted avg       0.87      0.89      0.87      8639\n",
      "\n"
     ]
    }
   ],
   "source": [
    "from sklearn.linear_model import LogisticRegression\n",
    "from sklearn.preprocessing import StandardScaler\n",
    "from sklearn.preprocessing import LabelEncoder\n",
    "\n",
    "\n",
    "categorical_cols = ['job', 'marital', 'education', 'default', 'housing', 'loan', 'contact', 'poutcome']\n",
    "for col in categorical_cols:\n",
    "    le = LabelEncoder()\n",
    "    df[col] = le.fit_transform(df[col])\n",
    "df['month'] = df['month'].map(month_mapping).fillna(0).astype(int)\n",
    "\n",
    "X = df.drop('y', axis=1)\n",
    "y = df['y']\n",
    "\n",
    "X_train, X_test, y_train, y_test = train_test_split(X, y, test_size=0.2, random_state=42)\n",
    "\n",
    "scaler = StandardScaler()\n",
    "X_train_scaled = scaler.fit_transform(X_train)\n",
    "X_test_scaled = scaler.transform(X_test)\n",
    "\n",
    "logistic_regression = LogisticRegression(max_iter=2000, random_state=42)\n",
    "logistic_regression.fit(X_train_scaled, y_train)\n",
    "y_pred_lr = logistic_regression.predict(X_test_scaled)\n",
    "\n",
    "accuracy_lr = accuracy_score(y_test, y_pred_lr)\n",
    "conf_matrix_lr = confusion_matrix(y_test, y_pred_lr)\n",
    "class_report_lr = classification_report(y_test, y_pred_lr)\n",
    "\n",
    "print('Logistic Regression Accuracy:', accuracy_lr)\n",
    "print('Confusion Matrix:\\n', conf_matrix_lr)\n",
    "print('Classification Report:\\n', class_report_lr) "
   ]
  },
  {
   "cell_type": "code",
   "execution_count": 27,
   "metadata": {
    "id": "vB4EuIhnYqmO",
    "trusted": true
   },
   "outputs": [
    {
     "name": "stdout",
     "output_type": "stream",
     "text": [
      "Accuracy: 0.9054288690820697\n"
     ]
    }
   ],
   "source": [
    "from xgboost import XGBClassifier\n",
    "model = XGBClassifier()\n",
    "model.fit(X_train, y_train)\n",
    "y_pred = model.predict(X_test)\n",
    "accuracy = accuracy_score(y_test, y_pred)\n",
    "print(\"Accuracy:\", accuracy)"
   ]
  },
  {
   "cell_type": "code",
   "execution_count": 28,
   "metadata": {
    "id": "ySKYKu2JaBQ9",
    "outputId": "826636a6-b511-4f56-ee02-9455735d6c38",
    "trusted": true
   },
   "outputs": [
    {
     "data": {
      "text/plain": [
       "0.9045028359763861"
      ]
     },
     "execution_count": 28,
     "metadata": {},
     "output_type": "execute_result"
    }
   ],
   "source": [
    "rf_model = RandomForestClassifier()\n",
    "rf_model.fit(X_train, y_train)\n",
    "y_pred_rf = rf_model.predict(X_test)\n",
    "rf_accuracy = accuracy_score(y_test, y_pred_rf)\n",
    "rf_accuracy"
   ]
  },
  {
   "cell_type": "code",
   "execution_count": 29,
   "metadata": {
    "id": "x7ghCteiaeGb",
    "outputId": "c4403dbe-e822-4dab-d113-3e0eeae95480",
    "trusted": true
   },
   "outputs": [
    {
     "data": {
      "image/png": "[encoded data removed]",
      "text/plain": [
       "<Figure size 1000x600 with 1 Axes>"
      ]
     },
     "metadata": {},
     "output_type": "display_data"
    }
   ],
   "source": [
    "df = dataset.copy()\n",
    "\n",
    "df.drop(df[df['education'] == 'unknown'].index, inplace=True)\n",
    "df.drop(df[df['job'] == 'unknown'].index, inplace=True)\n",
    "\n",
    "categorical_cols = ['job', 'marital', 'education', 'default', 'housing', 'loan', 'contact', 'poutcome']\n",
    "for col in categorical_cols:\n",
    "    le = LabelEncoder()\n",
    "    df[col] = le.fit_transform(df[col])\n",
    "\n",
    "month_mapping = {\n",
    "    'jan': 1, 'feb': 2, 'mar': 3, 'apr': 4, 'may': 5, 'jun': 6,\n",
    "    'jul': 7, 'aug': 8, 'sep': 9, 'oct': 10, 'nov': 11, 'dec': 12\n",
    "}\n",
    "df['month'] = df['month'].map(month_mapping).fillna(0).astype(int)\n",
    "df['y'] = df['y'].apply(lambda x: 1 if x == 'yes' else 0)\n",
    "\n",
    "X = df.drop('y', axis=1)\n",
    "y = df['y']\n",
    "X_train, X_test, y_train, y_test = train_test_split(X, y, test_size=0.2, random_state=42)\n",
    "\n",
    "scaler = StandardScaler()\n",
    "X_train_scaled = scaler.fit_transform(X_train)\n",
    "X_test_scaled = scaler.transform(X_test)\n",
    "\n",
    "logistic_regression = LogisticRegression(max_iter=2000, random_state=42)\n",
    "logistic_regression.fit(X_train_scaled, y_train)\n",
    "y_pred_lr = logistic_regression.predict(X_test_scaled)\n",
    "accuracy_lr = accuracy_score(y_test, y_pred_lr)\n",
    "\n",
    "rf_model = RandomForestClassifier()\n",
    "rf_model.fit(X_train, y_train)\n",
    "y_pred_rf = rf_model.predict(X_test)\n",
    "rf_accuracy = accuracy_score(y_test, y_pred_rf)\n",
    "\n",
    "xgb_model = XGBClassifier(random_state=42)\n",
    "xgb_model.fit(X_train, y_train)\n",
    "y_pred_xgb = xgb_model.predict(X_test)\n",
    "xgb_accuracy = accuracy_score(y_test, y_pred_xgb)\n",
    "\n",
    "model_accuracies = {'Logistic Regression': accuracy_lr,'Random Forest': rf_accuracy,'XGBoost': xgb_accuracy\n",
    "}\n",
    "\n",
    "plt.figure(figsize=(10, 6))\n",
    "plt.bar(model_accuracies.keys(), model_accuracies.values(), color=['blue', 'green', 'red'])\n",
    "plt.xlabel('Models')\n",
    "plt.ylabel('Accuracy')\n",
    "plt.title('Model Accuracies')\n",
    "plt.ylim(0, 1)\n",
    "plt.show() "
   ]
  },
  {
   "cell_type": "code",
   "execution_count": 30,
   "metadata": {
    "id": "HKOow3VBbdQ3",
    "outputId": "e890106f-686f-4e78-855c-c7dc62cc423a",
    "trusted": true
   },
   "outputs": [
    {
     "name": "stdout",
     "output_type": "stream",
     "text": [
      "Logistic Regression Classification Report:\n",
      "               precision    recall  f1-score   support\n",
      "\n",
      "           0       0.91      0.98      0.94      7658\n",
      "           1       0.59      0.23      0.33       981\n",
      "\n",
      "    accuracy                           0.89      8639\n",
      "   macro avg       0.75      0.61      0.64      8639\n",
      "weighted avg       0.87      0.89      0.87      8639\n",
      "\n",
      "Random Forest Classifier Classification Report:\n",
      "               precision    recall  f1-score   support\n",
      "\n",
      "           0       0.93      0.97      0.95      7658\n",
      "           1       0.65      0.43      0.52       981\n",
      "\n",
      "    accuracy                           0.91      8639\n",
      "   macro avg       0.79      0.70      0.73      8639\n",
      "weighted avg       0.90      0.91      0.90      8639\n",
      "\n",
      "XGBoost Classifier Classification Report:\n",
      "               precision    recall  f1-score   support\n",
      "\n",
      "           0       0.94      0.96      0.95      7658\n",
      "           1       0.64      0.51      0.56       981\n",
      "\n",
      "    accuracy                           0.91      8639\n",
      "   macro avg       0.79      0.73      0.76      8639\n",
      "weighted avg       0.90      0.91      0.91      8639\n",
      "\n"
     ]
    }
   ],
   "source": [
    "class_report_lr = classification_report(y_test, y_pred_lr)\n",
    "print('Logistic Regression Classification Report:\\n', class_report_lr)\n",
    "\n",
    "rf_class_report = classification_report(y_test, y_pred_rf)\n",
    "print('Random Forest Classifier Classification Report:\\n', rf_class_report)\n",
    "\n",
    "xgb_class_report = classification_report(y_test, y_pred_xgb)\n",
    "print('XGBoost Classifier Classification Report:\\n', xgb_class_report) "
   ]
  },
  {
   "cell_type": "code",
   "execution_count": 31,
   "metadata": {
    "trusted": true
   },
   "outputs": [
    {
     "name": "stdout",
     "output_type": "stream",
     "text": [
      "Predicted labels (ada): [0 0 0 ... 0 0 0]\n",
      "K-Nearest Neighbors (KNN) Accuracy: 0.884245861789559\n",
      "Confusion Matrix (KNN):\n",
      " [[7374  284]\n",
      " [ 716  265]]\n",
      "Classification Report (KNN):\n",
      "               precision    recall  f1-score   support\n",
      "\n",
      "           0       0.91      0.96      0.94      7658\n",
      "           1       0.48      0.27      0.35       981\n",
      "\n",
      "    accuracy                           0.88      8639\n",
      "   macro avg       0.70      0.62      0.64      8639\n",
      "weighted avg       0.86      0.88      0.87      8639\n",
      "\n",
      "\n",
      "Sample predictions:  [0 0 0 0 0 0 0 0 0 0]\n"
     ]
    }
   ],
   "source": [
    "from sklearn.neighbors import KNeighborsClassifier\n",
    "\n",
    "# K-Nearest Neighbors (KNN)\n",
    "knn_model = KNeighborsClassifier()\n",
    "knn_model.fit(X_train, y_train)  # Fit the model on training data\n",
    "y_pred_knn = knn_model.predict(X_test)  # Make predictions on the test set\n",
    "\n",
    "# Evaluate the KNN model\n",
    "knn_accuracy = accuracy_score(y_test, y_pred_knn)\n",
    "knn_conf_matrix = confusion_matrix(y_test, y_pred_knn)\n",
    "knn_class_report = classification_report(y_test, y_pred_knn)\n",
    "print(\"Predicted labels (ada):\",y_pred_knn)\n",
    "\n",
    "# Print KNN results\n",
    "print('K-Nearest Neighbors (KNN) Accuracy:', knn_accuracy)\n",
    "print('Confusion Matrix (KNN):\\n', knn_conf_matrix)\n",
    "print('Classification Report (KNN):\\n', knn_class_report) \n",
    "print(\"\\nSample predictions: \",y_pred_knn[:10])"
   ]
  },
  {
   "cell_type": "code",
   "execution_count": 32,
   "metadata": {
    "trusted": true
   },
   "outputs": [
    {
     "name": "stdout",
     "output_type": "stream",
     "text": [
      "Predicted labels (ada): [0 0 0 ... 0 0 0]\n",
      "Support Vector Machine (SVM) Accuracy: 0.9013774742447043\n",
      "Confusion Matrix (SVM):\n",
      " [[7496  162]\n",
      " [ 690  291]]\n",
      "Classification Report (SVM):\n",
      "               precision    recall  f1-score   support\n",
      "\n",
      "           0       0.92      0.98      0.95      7658\n",
      "           1       0.64      0.30      0.41       981\n",
      "\n",
      "    accuracy                           0.90      8639\n",
      "   macro avg       0.78      0.64      0.68      8639\n",
      "weighted avg       0.88      0.90      0.88      8639\n",
      "\n",
      "\n",
      "Sample predictions:  [0 0 0 0 0 1 0 0 0 0]\n"
     ]
    }
   ],
   "source": [
    "from sklearn.svm import SVC\n",
    "\n",
    "# Support Vector Machine (SVM)\n",
    "svm_model = SVC(random_state=42)\n",
    "svm_model.fit(X_train_scaled, y_train)  # Fit the model on scaled training data\n",
    "y_pred_svm = svm_model.predict(X_test_scaled)  # Make predictions on scaled test set\n",
    "\n",
    "# Evaluate the SVM model\n",
    "svm_accuracy = accuracy_score(y_test, y_pred_svm)\n",
    "svm_conf_matrix = confusion_matrix(y_test, y_pred_svm)\n",
    "svm_class_report = classification_report(y_test, y_pred_svm)\n",
    "print(\"Predicted labels (ada):\",y_pred_svm)\n",
    "\n",
    "# Print SVM results\n",
    "print('Support Vector Machine (SVM) Accuracy:', svm_accuracy)\n",
    "print('Confusion Matrix (SVM):\\n', svm_conf_matrix)\n",
    "print('Classification Report (SVM):\\n', svm_class_report)\n",
    "print(\"\\nSample predictions: \",y_pred_svm[:10])"
   ]
  },
  {
   "cell_type": "code",
   "execution_count": 33,
   "metadata": {
    "trusted": true
   },
   "outputs": [
    {
     "name": "stdout",
     "output_type": "stream",
     "text": [
      "Predicted labels (ada): [1 0 0 ... 0 0 0]\n",
      "Decision Tree Classifier Accuracy: 0.8814677624725084\n",
      "Confusion Matrix (Decision Tree):\n",
      " [[7123  535]\n",
      " [ 489  492]]\n",
      "Classification Report (Decision Tree):\n",
      "               precision    recall  f1-score   support\n",
      "\n",
      "           0       0.94      0.93      0.93      7658\n",
      "           1       0.48      0.50      0.49       981\n",
      "\n",
      "    accuracy                           0.88      8639\n",
      "   macro avg       0.71      0.72      0.71      8639\n",
      "weighted avg       0.88      0.88      0.88      8639\n",
      "\n",
      "\n",
      "Sample predictions:  [1 0 0 0 0 0 0 0 0 0]\n"
     ]
    }
   ],
   "source": [
    "from sklearn.tree import DecisionTreeClassifier\n",
    "\n",
    "# Decision Tree Classifier\n",
    "dt_model = DecisionTreeClassifier(random_state=42)\n",
    "dt_model.fit(X_train, y_train)  # Fit the model on training data\n",
    "y_pred_dt = dt_model.predict(X_test)  # Make predictions on the test set\n",
    "\n",
    "# Evaluate the Decision Tree model\n",
    "dt_accuracy = accuracy_score(y_test, y_pred_dt)\n",
    "dt_conf_matrix = confusion_matrix(y_test, y_pred_dt)\n",
    "dt_class_report = classification_report(y_test, y_pred_dt)\n",
    "print(\"Predicted labels (ada):\",y_pred_dt)\n",
    "\n",
    "# Print Decision Tree results\n",
    "print('Decision Tree Classifier Accuracy:', dt_accuracy)\n",
    "print('Confusion Matrix (Decision Tree):\\n', dt_conf_matrix)\n",
    "print('Classification Report (Decision Tree):\\n', dt_class_report)\n",
    "print(\"\\nSample predictions: \",y_pred_dt[:10])"
   ]
  },
  {
   "cell_type": "code",
   "execution_count": 34,
   "metadata": {
    "trusted": true
   },
   "outputs": [
    {
     "name": "stdout",
     "output_type": "stream",
     "text": [
      "Predicted labels (ada): [1 0 0 ... 0 0 0]\n",
      "Naive Bayes Classifier Accuracy: 0.8511401782613729\n",
      "Confusion Matrix (Naive Bayes):\n",
      " [[6885  773]\n",
      " [ 513  468]]\n",
      "Classification Report (Naive Bayes):\n",
      "               precision    recall  f1-score   support\n",
      "\n",
      "           0       0.93      0.90      0.91      7658\n",
      "           1       0.38      0.48      0.42       981\n",
      "\n",
      "    accuracy                           0.85      8639\n",
      "   macro avg       0.65      0.69      0.67      8639\n",
      "weighted avg       0.87      0.85      0.86      8639\n",
      "\n",
      "\n",
      "Sample predictions:  [1 0 0 0 0 1 0 1 0 1]\n"
     ]
    }
   ],
   "source": [
    "from sklearn.naive_bayes import GaussianNB\n",
    "\n",
    "# Naive Bayes Classifier\n",
    "nb_model = GaussianNB()\n",
    "nb_model.fit(X_train, y_train)  # Fit the model on training data\n",
    "y_pred_nb = nb_model.predict(X_test)  # Make predictions on the test set\n",
    "\n",
    "# Evaluate the Naive Bayes model\n",
    "nb_accuracy = accuracy_score(y_test, y_pred_nb)\n",
    "nb_conf_matrix = confusion_matrix(y_test, y_pred_nb)\n",
    "nb_class_report = classification_report(y_test, y_pred_nb)\n",
    "print(\"Predicted labels (ada):\",y_pred_nb)\n",
    "\n",
    "# Print Naive Bayes results\n",
    "print('Naive Bayes Classifier Accuracy:', nb_accuracy)\n",
    "print('Confusion Matrix (Naive Bayes):\\n', nb_conf_matrix)\n",
    "print('Classification Report (Naive Bayes):\\n', nb_class_report)\n",
    "print(\"\\nSample predictions: \", y_pred_nb[:10]) "
   ]
  },
  {
   "cell_type": "code",
   "execution_count": 35,
   "metadata": {},
   "outputs": [
    {
     "name": "stdout",
     "output_type": "stream",
     "text": [
      "Predicted labels (XGB): [1 0 0 ... 0 0 0]\n",
      "XGBoost Accuracy: 0.9113323301308022\n",
      "Confusion Matrix (XGBoost):\n",
      " [[7377  281]\n",
      " [ 485  496]]\n",
      "Classification Report (XGBoost):\n",
      "               precision    recall  f1-score   support\n",
      "\n",
      "           0       0.94      0.96      0.95      7658\n",
      "           1       0.64      0.51      0.56       981\n",
      "\n",
      "    accuracy                           0.91      8639\n",
      "   macro avg       0.79      0.73      0.76      8639\n",
      "weighted avg       0.90      0.91      0.91      8639\n",
      "\n",
      "\n",
      "Sample predictions:  [1 0 0 0 0 1 0 0 0 0]\n"
     ]
    }
   ],
   "source": [
    "from xgboost import XGBClassifier\n",
    "\n",
    "# XGBoost Model\n",
    "xgb_model = XGBClassifier()\n",
    "xgb_model.fit(X_train, y_train)  # Fit the model on training data\n",
    "y_pred_xgb = xgb_model.predict(X_test)  # Make predictions on the test set\n",
    "\n",
    "# Evaluate the XGBoost model\n",
    "xgb_accuracy = accuracy_score(y_test, y_pred_xgb)\n",
    "xgb_conf_matrix = confusion_matrix(y_test, y_pred_xgb)\n",
    "xgb_class_report = classification_report(y_test, y_pred_xgb)\n",
    "print(\"Predicted labels (XGB):\", y_pred_xgb)\n",
    "\n",
    "# Print XGBoost results\n",
    "print('XGBoost Accuracy:', xgb_accuracy)\n",
    "print('Confusion Matrix (XGBoost):\\n', xgb_conf_matrix)\n",
    "print('Classification Report (XGBoost):\\n', xgb_class_report)\n",
    "print(\"\\nSample predictions: \", y_pred_xgb[:10]) "
   ]
  },
  {
   "cell_type": "code",
   "execution_count": 36,
   "metadata": {
    "trusted": true
   },
   "outputs": [
    {
     "name": "stdout",
     "output_type": "stream",
     "text": [
      "Predicted labels (QDA): [1 0 0 ... 0 0 0]\n",
      "QDA Accuracy: 0.8570436393101053\n",
      "Confusion Matrix (QDA):\n",
      " [[6930  728]\n",
      " [ 507  474]]\n",
      "Classification Report (QDA):\n",
      "               precision    recall  f1-score   support\n",
      "\n",
      "           0       0.93      0.90      0.92      7658\n",
      "           1       0.39      0.48      0.43       981\n",
      "\n",
      "    accuracy                           0.86      8639\n",
      "   macro avg       0.66      0.69      0.68      8639\n",
      "weighted avg       0.87      0.86      0.86      8639\n",
      "\n",
      "\n",
      "Sample predictions:  [1 0 0 0 0 1 0 0 0 0]\n"
     ]
    }
   ],
   "source": [
    "from sklearn.discriminant_analysis import QuadraticDiscriminantAnalysis\n",
    "\n",
    "# QDA Model\n",
    "qda_model = QuadraticDiscriminantAnalysis()\n",
    "qda_model.fit(X_train, y_train)  # Fit the model on training data\n",
    "y_pred_qda = qda_model.predict(X_test)  # Make predictions on the test set\n",
    "\n",
    "# Evaluate the QDA model\n",
    "qda_accuracy = accuracy_score(y_test, y_pred_qda)\n",
    "qda_conf_matrix = confusion_matrix(y_test, y_pred_qda)\n",
    "qda_class_report = classification_report(y_test, y_pred_qda)\n",
    "\n",
    "# Print the predicted labels (either 0 or 1)\n",
    "print(\"Predicted labels (QDA):\", y_pred_qda)\n",
    "\n",
    "# Print QDA results\n",
    "print('QDA Accuracy:', qda_accuracy)\n",
    "print('Confusion Matrix (QDA):\\n', qda_conf_matrix)\n",
    "print('Classification Report (QDA):\\n', qda_class_report)\n",
    "\n",
    "# Optionally, you can print a sample of predictions to show the predicted labels (0 or 1)\n",
    "print(\"\\nSample predictions: \", y_pred_qda[:10])  # Show the first 10 predictions\n"
   ]
  },
  {
   "cell_type": "code",
   "execution_count": 37,
   "metadata": {},
   "outputs": [
    {
     "name": "stdout",
     "output_type": "stream",
     "text": [
      "Predicted labels (GB): [0 0 0 ... 0 0 0]\n",
      "Gradient Boosting Accuracy: 0.9080912142609098\n",
      "Confusion Matrix (GB):\n",
      " [[7451  207]\n",
      " [ 587  394]]\n",
      "Classification Report (GB):\n",
      "               precision    recall  f1-score   support\n",
      "\n",
      "           0       0.93      0.97      0.95      7658\n",
      "           1       0.66      0.40      0.50       981\n",
      "\n",
      "    accuracy                           0.91      8639\n",
      "   macro avg       0.79      0.69      0.72      8639\n",
      "weighted avg       0.90      0.91      0.90      8639\n",
      "\n",
      "\n",
      "Sample predictions:  [0 0 0 0 0 1 0 0 0 0]\n"
     ]
    }
   ],
   "source": [
    "from sklearn.ensemble import GradientBoostingClassifier\n",
    "\n",
    "# Gradient Boosting Model\n",
    "gb_model = GradientBoostingClassifier()\n",
    "gb_model.fit(X_train, y_train)  # Fit the model on training data\n",
    "y_pred_gb = gb_model.predict(X_test)  # Make predictions on the test set\n",
    "\n",
    "# Evaluate the Gradient Boosting model\n",
    "gb_accuracy = accuracy_score(y_test, y_pred_gb)\n",
    "gb_conf_matrix = confusion_matrix(y_test, y_pred_gb)\n",
    "gb_class_report = classification_report(y_test, y_pred_gb)\n",
    "\n",
    "# Print the predicted labels (either 0 or 1)\n",
    "print(\"Predicted labels (GB):\", y_pred_gb)\n",
    "\n",
    "# Print Gradient Boosting results\n",
    "print('Gradient Boosting Accuracy:', gb_accuracy)\n",
    "print('Confusion Matrix (GB):\\n', gb_conf_matrix)\n",
    "print('Classification Report (GB):\\n', gb_class_report)\n",
    "\n",
    "# Optionally, you can print a sample of predictions to show the predicted labels (0 or 1)\n",
    "print(\"\\nSample predictions: \", y_pred_gb[:10])  # Show the first 10 predictions"
   ]
  },
  {
   "cell_type": "code",
   "execution_count": 38,
   "metadata": {},
   "outputs": [
    {
     "name": "stdout",
     "output_type": "stream",
     "text": [
      "Predicted labels (AdaBoost): [0 0 0 ... 0 0 0]\n",
      "AdaBoost Accuracy: 0.8976733418219701\n",
      "Confusion Matrix (AdaBoost):\n",
      " [[7444  214]\n",
      " [ 670  311]]\n",
      "Classification Report (AdaBoost):\n",
      "               precision    recall  f1-score   support\n",
      "\n",
      "           0       0.92      0.97      0.94      7658\n",
      "           1       0.59      0.32      0.41       981\n",
      "\n",
      "    accuracy                           0.90      8639\n",
      "   macro avg       0.75      0.64      0.68      8639\n",
      "weighted avg       0.88      0.90      0.88      8639\n",
      "\n",
      "\n",
      "Sample predictions:  [0 0 0 0 0 1 0 0 0 0]\n"
     ]
    }
   ],
   "source": [
    "from sklearn.ensemble import AdaBoostClassifier\n",
    "\n",
    "# AdaBoost Model\n",
    "ada_model = AdaBoostClassifier()\n",
    "ada_model.fit(X_train, y_train)  # Fit the model on training data\n",
    "y_pred_ada = ada_model.predict(X_test)  # Make predictions on the test set\n",
    "\n",
    "# Evaluate the AdaBoost model\n",
    "ada_accuracy = accuracy_score(y_test, y_pred_ada)\n",
    "ada_conf_matrix = confusion_matrix(y_test, y_pred_ada)\n",
    "ada_class_report = classification_report(y_test, y_pred_ada)\n",
    "\n",
    "# Print the predicted labels (either 0 or 1)\n",
    "print(\"Predicted labels (AdaBoost):\", y_pred_ada)\n",
    "\n",
    "# Print AdaBoost results\n",
    "print('AdaBoost Accuracy:', ada_accuracy)\n",
    "print('Confusion Matrix (AdaBoost):\\n', ada_conf_matrix)\n",
    "print('Classification Report (AdaBoost):\\n', ada_class_report)\n",
    "\n",
    "# Optionally, you can print a sample of predictions to show the predicted labels (0 or 1)\n",
    "print(\"\\nSample predictions: \", y_pred_ada[:10])  # Show the first 10 predictions"
   ]
  },
  {
   "cell_type": "code",
   "execution_count": 39,
   "metadata": {},
   "outputs": [
    {
     "name": "stdout",
     "output_type": "stream",
     "text": [
      "[LightGBM] [Info] Number of positive: 4040, number of negative: 30514\n",
      "[LightGBM] [Info] Auto-choosing row-wise multi-threading, the overhead of testing was 0.002506 seconds.\n",
      "You can set `force_row_wise=true` to remove the overhead.\n",
      "And if memory is not enough, you can set `force_col_wise=true`.\n",
      "[LightGBM] [Info] Total Bins 984\n",
      "[LightGBM] [Info] Number of data points in the train set: 34554, number of used features: 16\n",
      "[LightGBM] [Info] [binary:BoostFromScore]: pavg=0.116918 -> initscore=-2.021941\n",
      "[LightGBM] [Info] Start training from score -2.021941\n",
      "Predicted labels (LightGBM): [0 0 0 ... 0 0 0]\n",
      "LightGBM Accuracy: 0.9117953466836439\n",
      "Confusion Matrix (LightGBM):\n",
      " [[7388  270]\n",
      " [ 492  489]]\n",
      "Classification Report (LightGBM):\n",
      "               precision    recall  f1-score   support\n",
      "\n",
      "           0       0.94      0.96      0.95      7658\n",
      "           1       0.64      0.50      0.56       981\n",
      "\n",
      "    accuracy                           0.91      8639\n",
      "   macro avg       0.79      0.73      0.76      8639\n",
      "weighted avg       0.90      0.91      0.91      8639\n",
      "\n",
      "\n",
      "Sample predictions:  [0 0 0 0 0 1 0 0 0 0]\n"
     ]
    }
   ],
   "source": [
    "import lightgbm as lgb\n",
    "\n",
    "# LightGBM Model\n",
    "lgb_model = lgb.LGBMClassifier()\n",
    "lgb_model.fit(X_train, y_train)  # Fit the model on training data\n",
    "y_pred_lgb = lgb_model.predict(X_test)  # Make predictions on the test set\n",
    "\n",
    "# Evaluate the LightGBM model\n",
    "lgb_accuracy = accuracy_score(y_test, y_pred_lgb)\n",
    "lgb_conf_matrix = confusion_matrix(y_test, y_pred_lgb)\n",
    "lgb_class_report = classification_report(y_test, y_pred_lgb)\n",
    "\n",
    "# Print the predicted labels (either 0 or 1)\n",
    "print(\"Predicted labels (LightGBM):\", y_pred_lgb)\n",
    "\n",
    "# Print LightGBM results\n",
    "print('LightGBM Accuracy:', lgb_accuracy)\n",
    "print('Confusion Matrix (LightGBM):\\n', lgb_conf_matrix)\n",
    "print('Classification Report (LightGBM):\\n', lgb_class_report)\n",
    "\n",
    "# Optionally, you can print a sample of predictions to show the predicted labels (0 or 1)\n",
    "print(\"\\nSample predictions: \", y_pred_lgb[:10])  # Show the first 10 predictions"
   ]
  },
  {
   "cell_type": "code",
   "execution_count": 40,
   "metadata": {},
   "outputs": [
    {
     "name": "stdout",
     "output_type": "stream",
     "text": [
      "Predicted labels (Bagging): [0 0 0 ... 0 0 0]\n",
      "Bagging Accuracy: 0.9056603773584906\n",
      "Confusion Matrix (Bagging):\n",
      " [[7397  261]\n",
      " [ 554  427]]\n",
      "Classification Report (Bagging):\n",
      "               precision    recall  f1-score   support\n",
      "\n",
      "           0       0.93      0.97      0.95      7658\n",
      "           1       0.62      0.44      0.51       981\n",
      "\n",
      "    accuracy                           0.91      8639\n",
      "   macro avg       0.78      0.70      0.73      8639\n",
      "weighted avg       0.90      0.91      0.90      8639\n",
      "\n",
      "\n",
      "Sample predictions:  [0 0 0 0 0 1 0 0 0 0]\n"
     ]
    }
   ],
   "source": [
    "from sklearn.ensemble import BaggingClassifier\n",
    "\n",
    "# Bagging Model\n",
    "bag_model = BaggingClassifier()\n",
    "bag_model.fit(X_train, y_train)  # Fit the model on training data\n",
    "y_pred_bag = bag_model.predict(X_test)  # Make predictions on the test set\n",
    "\n",
    "# Evaluate the Bagging model\n",
    "bag_accuracy = accuracy_score(y_test, y_pred_bag)\n",
    "bag_conf_matrix = confusion_matrix(y_test, y_pred_bag)\n",
    "bag_class_report = classification_report(y_test, y_pred_bag)\n",
    "\n",
    "# Print the predicted labels (either 0 or 1)\n",
    "print(\"Predicted labels (Bagging):\", y_pred_bag)\n",
    "\n",
    "# Print Bagging results\n",
    "print('Bagging Accuracy:', bag_accuracy)\n",
    "print('Confusion Matrix (Bagging):\\n', bag_conf_matrix)\n",
    "print('Classification Report (Bagging):\\n', bag_class_report)\n",
    "\n",
    "# Optionally, you can print a sample of predictions to show the predicted labels (0 or 1)\n",
    "print(\"\\nSample predictions: \", y_pred_bag[:10])  # Show the first 10 predictions"
   ]
  },
  {
   "cell_type": "code",
   "execution_count": 41,
   "metadata": {},
   "outputs": [
    {
     "name": "stdout",
     "output_type": "stream",
     "text": [
      "Predicted labels (ET): [0 0 0 ... 0 0 0]\n",
      "Extra Trees Accuracy: 0.9054288690820697\n",
      "Confusion Matrix (ET):\n",
      " [[7473  185]\n",
      " [ 632  349]]\n",
      "Classification Report (ET):\n",
      "               precision    recall  f1-score   support\n",
      "\n",
      "           0       0.92      0.98      0.95      7658\n",
      "           1       0.65      0.36      0.46       981\n",
      "\n",
      "    accuracy                           0.91      8639\n",
      "   macro avg       0.79      0.67      0.70      8639\n",
      "weighted avg       0.89      0.91      0.89      8639\n",
      "\n",
      "\n",
      "Sample predictions:  [0 0 0 0 0 1 0 0 0 0]\n"
     ]
    }
   ],
   "source": [
    "from sklearn.ensemble import ExtraTreesClassifier\n",
    "\n",
    "# Extra Trees Model\n",
    "et_model = ExtraTreesClassifier()\n",
    "et_model.fit(X_train, y_train)  # Fit the model on training data\n",
    "y_pred_et = et_model.predict(X_test)  # Make predictions on the test set\n",
    "\n",
    "# Evaluate the Extra Trees model\n",
    "et_accuracy = accuracy_score(y_test, y_pred_et)\n",
    "et_conf_matrix = confusion_matrix(y_test, y_pred_et)\n",
    "et_class_report = classification_report(y_test, y_pred_et)\n",
    "\n",
    "# Print the predicted labels (either 0 or 1)\n",
    "print(\"Predicted labels (ET):\", y_pred_et)\n",
    "\n",
    "# Print Extra Trees results\n",
    "print('Extra Trees Accuracy:', et_accuracy)\n",
    "print('Confusion Matrix (ET):\\n', et_conf_matrix)\n",
    "print('Classification Report (ET):\\n', et_class_report)\n",
    "\n",
    "# Optionally, you can print a sample of predictions to show the predicted labels (0 or 1)\n",
    "print(\"\\nSample predictions: \", y_pred_et[:10])  # Show the first 10 predictions"
   ]
  },
  {
   "cell_type": "code",
   "execution_count": 42,
   "metadata": {},
   "outputs": [
    {
     "name": "stdout",
     "output_type": "stream",
     "text": [
      "Predicted labels (Stacking): [0 0 0 ... 0 0 0]\n",
      "Stacking Classifier Accuracy: 0.9063549021877532\n",
      "Confusion Matrix (Stacking):\n",
      " [[7408  250]\n",
      " [ 559  422]]\n",
      "Classification Report (Stacking):\n",
      "               precision    recall  f1-score   support\n",
      "\n",
      "           0       0.93      0.97      0.95      7658\n",
      "           1       0.63      0.43      0.51       981\n",
      "\n",
      "    accuracy                           0.91      8639\n",
      "   macro avg       0.78      0.70      0.73      8639\n",
      "weighted avg       0.90      0.91      0.90      8639\n",
      "\n",
      "\n",
      "Sample predictions:  [0 0 0 0 0 1 0 0 0 0]\n"
     ]
    }
   ],
   "source": [
    "from sklearn.ensemble import StackingClassifier\n",
    "\n",
    "# Define base models\n",
    "base_models = [\n",
    "    ('rf', RandomForestClassifier()),\n",
    "    ('gb', GradientBoostingClassifier()),\n",
    "    ('svm', SVC(probability=True)),\n",
    "    ('nb', GaussianNB())\n",
    "]\n",
    "\n",
    "# Define meta-model\n",
    "meta_model = LogisticRegression()\n",
    "\n",
    "# Create Stacking Classifier\n",
    "stacking_model = StackingClassifier(estimators=base_models, final_estimator=meta_model)\n",
    "\n",
    "# Fit the model on training data\n",
    "stacking_model.fit(X_train, y_train)\n",
    "\n",
    "# Make predictions on the test set\n",
    "y_pred_stack = stacking_model.predict(X_test)\n",
    "\n",
    "# Evaluate the Stacking model\n",
    "stack_accuracy = accuracy_score(y_test, y_pred_stack)\n",
    "stack_conf_matrix = confusion_matrix(y_test, y_pred_stack)\n",
    "stack_class_report = classification_report(y_test, y_pred_stack)\n",
    "\n",
    "# Print the predicted labels (either 0 or 1)\n",
    "print(\"Predicted labels (Stacking):\", y_pred_stack)\n",
    "\n",
    "# Print Stacking results\n",
    "print('Stacking Classifier Accuracy:', stack_accuracy)\n",
    "print('Confusion Matrix (Stacking):\\n', stack_conf_matrix)\n",
    "print('Classification Report (Stacking):\\n', stack_class_report)\n",
    "\n",
    "# Optionally, you can print a sample of predictions to show the predicted labels (0 or 1)\n",
    "print(\"\\nSample predictions: \", y_pred_stack[:10])  # Show the first 10 predictions"
   ]
  },
  {
   "cell_type": "code",
   "execution_count": 43,
   "metadata": {},
   "outputs": [
    {
     "data": {
      "text/html": [
       "<div>\n",
       "<style scoped>\n",
       "    .dataframe tbody tr th:only-of-type {\n",
       "        vertical-align: middle;\n",
       "    }\n",
       "\n",
       "    .dataframe tbody tr th {\n",
       "        vertical-align: top;\n",
       "    }\n",
       "\n",
       "    .dataframe thead th {\n",
       "        text-align: right;\n",
       "    }\n",
       "</style>\n",
       "<table border=\"1\" class=\"dataframe\">\n",
       "  <thead>\n",
       "    <tr style=\"text-align: right;\">\n",
       "      <th></th>\n",
       "      <th>Model</th>\n",
       "      <th>Accuracy</th>\n",
       "    </tr>\n",
       "  </thead>\n",
       "  <tbody>\n",
       "    <tr>\n",
       "      <th>0</th>\n",
       "      <td>LightGBM</td>\n",
       "      <td>0.911795</td>\n",
       "    </tr>\n",
       "    <tr>\n",
       "      <th>1</th>\n",
       "      <td>XGBoost</td>\n",
       "      <td>0.911332</td>\n",
       "    </tr>\n",
       "    <tr>\n",
       "      <th>2</th>\n",
       "      <td>Random Forest</td>\n",
       "      <td>0.908670</td>\n",
       "    </tr>\n",
       "    <tr>\n",
       "      <th>3</th>\n",
       "      <td>Gradient Boosting</td>\n",
       "      <td>0.908091</td>\n",
       "    </tr>\n",
       "    <tr>\n",
       "      <th>4</th>\n",
       "      <td>Stacking</td>\n",
       "      <td>0.906355</td>\n",
       "    </tr>\n",
       "    <tr>\n",
       "      <th>5</th>\n",
       "      <td>Bagging</td>\n",
       "      <td>0.905660</td>\n",
       "    </tr>\n",
       "    <tr>\n",
       "      <th>6</th>\n",
       "      <td>Extra Trees</td>\n",
       "      <td>0.905429</td>\n",
       "    </tr>\n",
       "    <tr>\n",
       "      <th>7</th>\n",
       "      <td>Support Vector Machine</td>\n",
       "      <td>0.901377</td>\n",
       "    </tr>\n",
       "    <tr>\n",
       "      <th>8</th>\n",
       "      <td>AdaBoost</td>\n",
       "      <td>0.897673</td>\n",
       "    </tr>\n",
       "    <tr>\n",
       "      <th>9</th>\n",
       "      <td>Logistic Regression</td>\n",
       "      <td>0.894548</td>\n",
       "    </tr>\n",
       "    <tr>\n",
       "      <th>10</th>\n",
       "      <td>K-Nearest Neighbors</td>\n",
       "      <td>0.884246</td>\n",
       "    </tr>\n",
       "    <tr>\n",
       "      <th>11</th>\n",
       "      <td>Decision Tree</td>\n",
       "      <td>0.881468</td>\n",
       "    </tr>\n",
       "    <tr>\n",
       "      <th>12</th>\n",
       "      <td>Quadratic Discriminant Analysis</td>\n",
       "      <td>0.857044</td>\n",
       "    </tr>\n",
       "    <tr>\n",
       "      <th>13</th>\n",
       "      <td>Naive Bayes</td>\n",
       "      <td>0.851140</td>\n",
       "    </tr>\n",
       "  </tbody>\n",
       "</table>\n",
       "</div>"
      ],
      "text/plain": [
       "                              Model  Accuracy\n",
       "0                          LightGBM  0.911795\n",
       "1                           XGBoost  0.911332\n",
       "2                     Random Forest  0.908670\n",
       "3                 Gradient Boosting  0.908091\n",
       "4                          Stacking  0.906355\n",
       "5                           Bagging  0.905660\n",
       "6                       Extra Trees  0.905429\n",
       "7            Support Vector Machine  0.901377\n",
       "8                          AdaBoost  0.897673\n",
       "9               Logistic Regression  0.894548\n",
       "10              K-Nearest Neighbors  0.884246\n",
       "11                    Decision Tree  0.881468\n",
       "12  Quadratic Discriminant Analysis  0.857044\n",
       "13                      Naive Bayes  0.851140"
      ]
     },
     "execution_count": 43,
     "metadata": {},
     "output_type": "execute_result"
    }
   ],
   "source": [
    "# Create a dictionary with model names and their accuracies\n",
    "model_accuracies = {\n",
    "    'Logistic Regression': accuracy_lr,\n",
    "    'Random Forest': rf_accuracy,\n",
    "    'XGBoost': xgb_accuracy,\n",
    "    'K-Nearest Neighbors': knn_accuracy,\n",
    "    'Support Vector Machine': svm_accuracy,\n",
    "    'Decision Tree': dt_accuracy,\n",
    "    'Naive Bayes': nb_accuracy,\n",
    "    'Quadratic Discriminant Analysis': qda_accuracy,\n",
    "    'Gradient Boosting': gb_accuracy,\n",
    "    'AdaBoost': ada_accuracy,\n",
    "    'LightGBM': lgb_accuracy,\n",
    "    'Bagging': bag_accuracy,\n",
    "    'Extra Trees': et_accuracy,\n",
    "    'Stacking': stack_accuracy\n",
    "}\n",
    "\n",
    "# Convert the dictionary to a DataFrame for better visualization\n",
    "accuracy_df = pd.DataFrame(list(model_accuracies.items()), columns=['Model', 'Accuracy'])\n",
    "\n",
    "# Display the DataFrame\n",
    "accuracy_df.sort_values(by='Accuracy', ascending=False, inplace=True)\n",
    "accuracy_df.reset_index(drop=True, inplace=True)\n",
    "accuracy_df"
   ]
  }
 ],
 "metadata": {
  "colab": {
   "provenance": []
  },
  "kaggle": {
   "accelerator": "none",
   "dataSources": [
    {
     "datasetId": 6222475,
     "sourceId": 10091092,
     "sourceType": "datasetVersion"
    },
    {
     "datasetId": 6541786,
     "sourceId": 10571785,
     "sourceType": "datasetVersion"
    },
    {
     "datasetId": 6542080,
     "isSourceIdPinned": false,
     "sourceId": 10572194,
     "sourceType": "datasetVersion"
    }
   ],
   "dockerImageVersionId": 30839,
   "isGpuEnabled": false,
   "isInternetEnabled": false,
   "language": "python",
   "sourceType": "notebook"
  },
  "kernelspec": {
   "display_name": "myenv",
   "language": "python",
   "name": "python3"
  },
  "language_info": {
   "codemirror_mode": {
    "name": "ipython",
    "version": 3
   },
   "file_extension": ".py",
   "mimetype": "text/x-python",
   "name": "python",
   "nbconvert_exporter": "python",
   "pygments_lexer": "ipython3",
   "version": "3.9.21"
  }
 },
 "nbformat": 4,
 "nbformat_minor": 4
}
